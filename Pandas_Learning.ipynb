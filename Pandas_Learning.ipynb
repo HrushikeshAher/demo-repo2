{
  "nbformat": 4,
  "nbformat_minor": 0,
  "metadata": {
    "colab": {
      "name": "Pandas_Learning.ipynb",
      "provenance": [],
      "authorship_tag": "ABX9TyNlnzcZUmsVEsQkf15svXsh",
      "include_colab_link": true
    },
    "kernelspec": {
      "name": "python3",
      "display_name": "Python 3"
    }
  },
  "cells": [
    {
      "cell_type": "markdown",
      "metadata": {
        "id": "view-in-github",
        "colab_type": "text"
      },
      "source": [
        "<a href=\"https://colab.research.google.com/github/HrushikeshAher/demo-repo2/blob/master/Pandas_Learning.ipynb\" target=\"_parent\"><img src=\"https://colab.research.google.com/assets/colab-badge.svg\" alt=\"Open In Colab\"/></a>"
      ]
    },
    {
      "cell_type": "markdown",
      "metadata": {
        "id": "ZLdk7xSBO4hm"
      },
      "source": [
        "***Python Pandas***\r\n",
        "\r\n",
        "\r\n",
        "1. Pandas is used for Data Analysis.\r\n",
        "2. It has rich set of functions.\r\n",
        "3. Pandas has two typeof data structure:\r\n",
        "  1. Series:\r\n",
        "  Pandas Series is a one-dimensional labeled array capable of holding data of any type (integer, string, float, python objects, etc.)\r\n",
        "\r\n",
        "  2. DataFrame:\r\n",
        "  DataFrame is a 2-dimensional labeled data structure with columns of potentially different types. You can think of it like a spreadsheet or SQL table, or a dict of Series objects. It is generally the most commonly used pandas object.\r\n",
        "\r\n"
      ]
    },
    {
      "cell_type": "code",
      "metadata": {
        "id": "vW9hLtceNybz"
      },
      "source": [
        "import pandas as pd\r\n",
        "import numpy as np"
      ],
      "execution_count": null,
      "outputs": []
    },
    {
      "cell_type": "code",
      "metadata": {
        "id": "vETKsSJFQMU2"
      },
      "source": [
        "dict1={\r\n",
        "    'name':['Hrushikesh','Vikas'],\r\n",
        "    'marks':[98,85],\r\n",
        "    'city':['Ahmednagar','Sangole'],\r\n",
        "    'Country':'India'\r\n",
        "}"
      ],
      "execution_count": null,
      "outputs": []
    },
    {
      "cell_type": "code",
      "metadata": {
        "colab": {
          "base_uri": "https://localhost:8080/"
        },
        "id": "ToLaLdYEQl4B",
        "outputId": "8e3480b5-7816-4180-f156-4d87171466a6"
      },
      "source": [
        "dict1['marks']"
      ],
      "execution_count": null,
      "outputs": [
        {
          "output_type": "execute_result",
          "data": {
            "text/plain": [
              "[98, 85]"
            ]
          },
          "metadata": {
            "tags": []
          },
          "execution_count": 11
        }
      ]
    },
    {
      "cell_type": "code",
      "metadata": {
        "id": "utsIpl8dQvQ7"
      },
      "source": [
        "pd_dict1=pd.DataFrame(dict1)"
      ],
      "execution_count": null,
      "outputs": []
    },
    {
      "cell_type": "code",
      "metadata": {
        "colab": {
          "base_uri": "https://localhost:8080/",
          "height": 106
        },
        "id": "DRL4by27RDkj",
        "outputId": "d86d4813-bfd7-40da-f1b5-bc25509243af"
      },
      "source": [
        "pd_dict1"
      ],
      "execution_count": null,
      "outputs": [
        {
          "output_type": "execute_result",
          "data": {
            "text/html": [
              "<div>\n",
              "<style scoped>\n",
              "    .dataframe tbody tr th:only-of-type {\n",
              "        vertical-align: middle;\n",
              "    }\n",
              "\n",
              "    .dataframe tbody tr th {\n",
              "        vertical-align: top;\n",
              "    }\n",
              "\n",
              "    .dataframe thead th {\n",
              "        text-align: right;\n",
              "    }\n",
              "</style>\n",
              "<table border=\"1\" class=\"dataframe\">\n",
              "  <thead>\n",
              "    <tr style=\"text-align: right;\">\n",
              "      <th></th>\n",
              "      <th>name</th>\n",
              "      <th>marks</th>\n",
              "      <th>city</th>\n",
              "      <th>Country</th>\n",
              "    </tr>\n",
              "  </thead>\n",
              "  <tbody>\n",
              "    <tr>\n",
              "      <th>0</th>\n",
              "      <td>Hrushikesh</td>\n",
              "      <td>98</td>\n",
              "      <td>Ahmednagar</td>\n",
              "      <td>India</td>\n",
              "    </tr>\n",
              "    <tr>\n",
              "      <th>1</th>\n",
              "      <td>Vikas</td>\n",
              "      <td>85</td>\n",
              "      <td>Sangole</td>\n",
              "      <td>India</td>\n",
              "    </tr>\n",
              "  </tbody>\n",
              "</table>\n",
              "</div>"
            ],
            "text/plain": [
              "         name  marks        city Country\n",
              "0  Hrushikesh     98  Ahmednagar   India\n",
              "1       Vikas     85     Sangole   India"
            ]
          },
          "metadata": {
            "tags": []
          },
          "execution_count": 13
        }
      ]
    },
    {
      "cell_type": "code",
      "metadata": {
        "id": "2NLGSWRQSFA7"
      },
      "source": [
        "pd_dict1.to_csv('Friends.csv',index=False)"
      ],
      "execution_count": null,
      "outputs": []
    },
    {
      "cell_type": "code",
      "metadata": {
        "colab": {
          "base_uri": "https://localhost:8080/",
          "height": 77
        },
        "id": "UMWGpfFMSd4t",
        "outputId": "200a0355-fbbd-49f2-94a1-74d073379049"
      },
      "source": [
        "pd_dict1.head(1)"
      ],
      "execution_count": null,
      "outputs": [
        {
          "output_type": "execute_result",
          "data": {
            "text/html": [
              "<div>\n",
              "<style scoped>\n",
              "    .dataframe tbody tr th:only-of-type {\n",
              "        vertical-align: middle;\n",
              "    }\n",
              "\n",
              "    .dataframe tbody tr th {\n",
              "        vertical-align: top;\n",
              "    }\n",
              "\n",
              "    .dataframe thead th {\n",
              "        text-align: right;\n",
              "    }\n",
              "</style>\n",
              "<table border=\"1\" class=\"dataframe\">\n",
              "  <thead>\n",
              "    <tr style=\"text-align: right;\">\n",
              "      <th></th>\n",
              "      <th>name</th>\n",
              "      <th>marks</th>\n",
              "      <th>city</th>\n",
              "      <th>Country</th>\n",
              "    </tr>\n",
              "  </thead>\n",
              "  <tbody>\n",
              "    <tr>\n",
              "      <th>0</th>\n",
              "      <td>Hrushikesh</td>\n",
              "      <td>98</td>\n",
              "      <td>Ahmednagar</td>\n",
              "      <td>India</td>\n",
              "    </tr>\n",
              "  </tbody>\n",
              "</table>\n",
              "</div>"
            ],
            "text/plain": [
              "         name  marks        city Country\n",
              "0  Hrushikesh     98  Ahmednagar   India"
            ]
          },
          "metadata": {
            "tags": []
          },
          "execution_count": 19
        }
      ]
    },
    {
      "cell_type": "code",
      "metadata": {
        "colab": {
          "base_uri": "https://localhost:8080/",
          "height": 77
        },
        "id": "1iX3xBfwS9i3",
        "outputId": "75777d91-84c8-458d-b346-a1f315d67edc"
      },
      "source": [
        "pd_dict1.tail(1)"
      ],
      "execution_count": null,
      "outputs": [
        {
          "output_type": "execute_result",
          "data": {
            "text/html": [
              "<div>\n",
              "<style scoped>\n",
              "    .dataframe tbody tr th:only-of-type {\n",
              "        vertical-align: middle;\n",
              "    }\n",
              "\n",
              "    .dataframe tbody tr th {\n",
              "        vertical-align: top;\n",
              "    }\n",
              "\n",
              "    .dataframe thead th {\n",
              "        text-align: right;\n",
              "    }\n",
              "</style>\n",
              "<table border=\"1\" class=\"dataframe\">\n",
              "  <thead>\n",
              "    <tr style=\"text-align: right;\">\n",
              "      <th></th>\n",
              "      <th>name</th>\n",
              "      <th>marks</th>\n",
              "      <th>city</th>\n",
              "      <th>Country</th>\n",
              "    </tr>\n",
              "  </thead>\n",
              "  <tbody>\n",
              "    <tr>\n",
              "      <th>1</th>\n",
              "      <td>Vikas</td>\n",
              "      <td>85</td>\n",
              "      <td>Sangole</td>\n",
              "      <td>India</td>\n",
              "    </tr>\n",
              "  </tbody>\n",
              "</table>\n",
              "</div>"
            ],
            "text/plain": [
              "    name  marks     city Country\n",
              "1  Vikas     85  Sangole   India"
            ]
          },
          "metadata": {
            "tags": []
          },
          "execution_count": 20
        }
      ]
    },
    {
      "cell_type": "code",
      "metadata": {
        "colab": {
          "base_uri": "https://localhost:8080/",
          "height": 284
        },
        "id": "wM0npn5-S_wr",
        "outputId": "254bd733-ed4e-4c8a-c200-8fc31c4743f3"
      },
      "source": [
        "pd_dict1.describe()"
      ],
      "execution_count": null,
      "outputs": [
        {
          "output_type": "execute_result",
          "data": {
            "text/html": [
              "<div>\n",
              "<style scoped>\n",
              "    .dataframe tbody tr th:only-of-type {\n",
              "        vertical-align: middle;\n",
              "    }\n",
              "\n",
              "    .dataframe tbody tr th {\n",
              "        vertical-align: top;\n",
              "    }\n",
              "\n",
              "    .dataframe thead th {\n",
              "        text-align: right;\n",
              "    }\n",
              "</style>\n",
              "<table border=\"1\" class=\"dataframe\">\n",
              "  <thead>\n",
              "    <tr style=\"text-align: right;\">\n",
              "      <th></th>\n",
              "      <th>marks</th>\n",
              "    </tr>\n",
              "  </thead>\n",
              "  <tbody>\n",
              "    <tr>\n",
              "      <th>count</th>\n",
              "      <td>2.000000</td>\n",
              "    </tr>\n",
              "    <tr>\n",
              "      <th>mean</th>\n",
              "      <td>91.500000</td>\n",
              "    </tr>\n",
              "    <tr>\n",
              "      <th>std</th>\n",
              "      <td>9.192388</td>\n",
              "    </tr>\n",
              "    <tr>\n",
              "      <th>min</th>\n",
              "      <td>85.000000</td>\n",
              "    </tr>\n",
              "    <tr>\n",
              "      <th>25%</th>\n",
              "      <td>88.250000</td>\n",
              "    </tr>\n",
              "    <tr>\n",
              "      <th>50%</th>\n",
              "      <td>91.500000</td>\n",
              "    </tr>\n",
              "    <tr>\n",
              "      <th>75%</th>\n",
              "      <td>94.750000</td>\n",
              "    </tr>\n",
              "    <tr>\n",
              "      <th>max</th>\n",
              "      <td>98.000000</td>\n",
              "    </tr>\n",
              "  </tbody>\n",
              "</table>\n",
              "</div>"
            ],
            "text/plain": [
              "           marks\n",
              "count   2.000000\n",
              "mean   91.500000\n",
              "std     9.192388\n",
              "min    85.000000\n",
              "25%    88.250000\n",
              "50%    91.500000\n",
              "75%    94.750000\n",
              "max    98.000000"
            ]
          },
          "metadata": {
            "tags": []
          },
          "execution_count": 21
        }
      ]
    },
    {
      "cell_type": "code",
      "metadata": {
        "id": "8fFwy_lxTNhc"
      },
      "source": [
        "import_csv=pd.read_csv('Friends.csv')"
      ],
      "execution_count": null,
      "outputs": []
    },
    {
      "cell_type": "code",
      "metadata": {
        "colab": {
          "base_uri": "https://localhost:8080/",
          "height": 106
        },
        "id": "HBEcpGzTTYtq",
        "outputId": "c73984e9-82ff-4add-a447-26f5e31c90dd"
      },
      "source": [
        "import_csv"
      ],
      "execution_count": null,
      "outputs": [
        {
          "output_type": "execute_result",
          "data": {
            "text/html": [
              "<div>\n",
              "<style scoped>\n",
              "    .dataframe tbody tr th:only-of-type {\n",
              "        vertical-align: middle;\n",
              "    }\n",
              "\n",
              "    .dataframe tbody tr th {\n",
              "        vertical-align: top;\n",
              "    }\n",
              "\n",
              "    .dataframe thead th {\n",
              "        text-align: right;\n",
              "    }\n",
              "</style>\n",
              "<table border=\"1\" class=\"dataframe\">\n",
              "  <thead>\n",
              "    <tr style=\"text-align: right;\">\n",
              "      <th></th>\n",
              "      <th>name</th>\n",
              "      <th>marks</th>\n",
              "      <th>city</th>\n",
              "      <th>Country</th>\n",
              "    </tr>\n",
              "  </thead>\n",
              "  <tbody>\n",
              "    <tr>\n",
              "      <th>first</th>\n",
              "      <td>Hrushikesh</td>\n",
              "      <td>99</td>\n",
              "      <td>Ahmednagar</td>\n",
              "      <td>India</td>\n",
              "    </tr>\n",
              "    <tr>\n",
              "      <th>second</th>\n",
              "      <td>Vikas</td>\n",
              "      <td>85</td>\n",
              "      <td>Sangole</td>\n",
              "      <td>India</td>\n",
              "    </tr>\n",
              "  </tbody>\n",
              "</table>\n",
              "</div>"
            ],
            "text/plain": [
              "              name  marks        city Country\n",
              "first   Hrushikesh     99  Ahmednagar   India\n",
              "second       Vikas     85     Sangole   India"
            ]
          },
          "metadata": {
            "tags": []
          },
          "execution_count": 29
        }
      ]
    },
    {
      "cell_type": "code",
      "metadata": {
        "colab": {
          "base_uri": "https://localhost:8080/"
        },
        "id": "7Aj5qafaTbBC",
        "outputId": "03e157ed-b96a-492c-d7e4-a5c99b05abfb"
      },
      "source": [
        "import_csv['marks'][0]=99"
      ],
      "execution_count": null,
      "outputs": [
        {
          "output_type": "stream",
          "text": [
            "/usr/local/lib/python3.6/dist-packages/ipykernel_launcher.py:1: SettingWithCopyWarning: \n",
            "A value is trying to be set on a copy of a slice from a DataFrame\n",
            "\n",
            "See the caveats in the documentation: https://pandas.pydata.org/pandas-docs/stable/user_guide/indexing.html#returning-a-view-versus-a-copy\n",
            "  \"\"\"Entry point for launching an IPython kernel.\n"
          ],
          "name": "stderr"
        }
      ]
    },
    {
      "cell_type": "code",
      "metadata": {
        "id": "R7kSo9tUTp2d"
      },
      "source": [
        "import_csv.to_csv('Friends.csv')"
      ],
      "execution_count": null,
      "outputs": []
    },
    {
      "cell_type": "code",
      "metadata": {
        "id": "OxLv1fdlU4z0"
      },
      "source": [
        "import_csv.index=['first','second']"
      ],
      "execution_count": null,
      "outputs": []
    },
    {
      "cell_type": "code",
      "metadata": {
        "colab": {
          "base_uri": "https://localhost:8080/"
        },
        "id": "AWiHXUeMU_-L",
        "outputId": "275c10d3-93eb-48ed-eb73-051ef18652ad"
      },
      "source": [
        "type(import_csv)"
      ],
      "execution_count": null,
      "outputs": [
        {
          "output_type": "execute_result",
          "data": {
            "text/plain": [
              "pandas.core.frame.DataFrame"
            ]
          },
          "metadata": {
            "tags": []
          },
          "execution_count": 32
        }
      ]
    },
    {
      "cell_type": "code",
      "metadata": {
        "colab": {
          "base_uri": "https://localhost:8080/"
        },
        "id": "xECGPbo5WjHB",
        "outputId": "b7b6cd43-5eaa-4720-d489-1bf3361182c0"
      },
      "source": [
        "type(import_csv['name'])"
      ],
      "execution_count": null,
      "outputs": [
        {
          "output_type": "execute_result",
          "data": {
            "text/plain": [
              "pandas.core.series.Series"
            ]
          },
          "metadata": {
            "tags": []
          },
          "execution_count": 33
        }
      ]
    },
    {
      "cell_type": "code",
      "metadata": {
        "id": "gTFelGw5WmgT"
      },
      "source": [
        "ser= pd.Series(np.random.rand(40))"
      ],
      "execution_count": null,
      "outputs": []
    },
    {
      "cell_type": "code",
      "metadata": {
        "colab": {
          "base_uri": "https://localhost:8080/"
        },
        "id": "ZAHNqRjxW8PT",
        "outputId": "17592187-6363-4e1b-a594-46943e1c47a5"
      },
      "source": [
        "ser"
      ],
      "execution_count": null,
      "outputs": [
        {
          "output_type": "execute_result",
          "data": {
            "text/plain": [
              "0     0.186584\n",
              "1     0.537089\n",
              "2     0.523542\n",
              "3     0.973121\n",
              "4     0.023445\n",
              "5     0.321285\n",
              "6     0.108688\n",
              "7     0.901691\n",
              "8     0.070020\n",
              "9     0.118161\n",
              "10    0.344660\n",
              "11    0.955555\n",
              "12    0.385529\n",
              "13    0.016236\n",
              "14    0.158382\n",
              "15    0.111283\n",
              "16    0.402429\n",
              "17    0.845262\n",
              "18    0.502720\n",
              "19    0.905402\n",
              "20    0.895784\n",
              "21    0.014676\n",
              "22    0.427293\n",
              "23    0.746410\n",
              "24    0.444001\n",
              "25    0.918298\n",
              "26    0.365822\n",
              "27    0.664428\n",
              "28    0.919141\n",
              "29    0.825274\n",
              "30    0.861023\n",
              "31    0.540113\n",
              "32    0.783584\n",
              "33    0.197149\n",
              "34    0.681925\n",
              "35    0.668934\n",
              "36    0.085411\n",
              "37    0.340347\n",
              "38    0.325922\n",
              "39    0.165826\n",
              "dtype: float64"
            ]
          },
          "metadata": {
            "tags": []
          },
          "execution_count": 45
        }
      ]
    },
    {
      "cell_type": "code",
      "metadata": {
        "colab": {
          "base_uri": "https://localhost:8080/"
        },
        "id": "jcZdnoGlW9Jt",
        "outputId": "7727dbbc-84dd-4b34-a836-b0fe944d93fc"
      },
      "source": [
        "type(ser)"
      ],
      "execution_count": null,
      "outputs": [
        {
          "output_type": "execute_result",
          "data": {
            "text/plain": [
              "pandas.core.series.Series"
            ]
          },
          "metadata": {
            "tags": []
          },
          "execution_count": 42
        }
      ]
    },
    {
      "cell_type": "code",
      "metadata": {
        "id": "LPDgDVQEXLab"
      },
      "source": [
        "newdf=pd.DataFrame(np.random.rand(334,5),index=np.arange(334))"
      ],
      "execution_count": null,
      "outputs": []
    },
    {
      "cell_type": "code",
      "metadata": {
        "colab": {
          "base_uri": "https://localhost:8080/",
          "height": 195
        },
        "id": "UrVPWqcXYV_W",
        "outputId": "b5a89617-5f88-4f7c-80d8-9faddabe767c"
      },
      "source": [
        "newdf.head()"
      ],
      "execution_count": null,
      "outputs": [
        {
          "output_type": "execute_result",
          "data": {
            "text/html": [
              "<div>\n",
              "<style scoped>\n",
              "    .dataframe tbody tr th:only-of-type {\n",
              "        vertical-align: middle;\n",
              "    }\n",
              "\n",
              "    .dataframe tbody tr th {\n",
              "        vertical-align: top;\n",
              "    }\n",
              "\n",
              "    .dataframe thead th {\n",
              "        text-align: right;\n",
              "    }\n",
              "</style>\n",
              "<table border=\"1\" class=\"dataframe\">\n",
              "  <thead>\n",
              "    <tr style=\"text-align: right;\">\n",
              "      <th></th>\n",
              "      <th>0</th>\n",
              "      <th>1</th>\n",
              "      <th>2</th>\n",
              "      <th>3</th>\n",
              "      <th>4</th>\n",
              "    </tr>\n",
              "  </thead>\n",
              "  <tbody>\n",
              "    <tr>\n",
              "      <th>0</th>\n",
              "      <td>0.2</td>\n",
              "      <td>0.143074</td>\n",
              "      <td>0.070045</td>\n",
              "      <td>0.129558</td>\n",
              "      <td>0.948316</td>\n",
              "    </tr>\n",
              "    <tr>\n",
              "      <th>1</th>\n",
              "      <td>0.544827</td>\n",
              "      <td>0.437922</td>\n",
              "      <td>0.653249</td>\n",
              "      <td>0.802819</td>\n",
              "      <td>0.101183</td>\n",
              "    </tr>\n",
              "    <tr>\n",
              "      <th>2</th>\n",
              "      <td>0.0590584</td>\n",
              "      <td>0.130112</td>\n",
              "      <td>0.186997</td>\n",
              "      <td>0.644602</td>\n",
              "      <td>0.091079</td>\n",
              "    </tr>\n",
              "    <tr>\n",
              "      <th>3</th>\n",
              "      <td>0.225236</td>\n",
              "      <td>0.297302</td>\n",
              "      <td>0.830568</td>\n",
              "      <td>0.039246</td>\n",
              "      <td>0.867138</td>\n",
              "    </tr>\n",
              "    <tr>\n",
              "      <th>4</th>\n",
              "      <td>0.589429</td>\n",
              "      <td>0.818672</td>\n",
              "      <td>0.738312</td>\n",
              "      <td>0.773098</td>\n",
              "      <td>0.501009</td>\n",
              "    </tr>\n",
              "  </tbody>\n",
              "</table>\n",
              "</div>"
            ],
            "text/plain": [
              "           0         1         2         3         4\n",
              "0        0.2  0.143074  0.070045  0.129558  0.948316\n",
              "1   0.544827  0.437922  0.653249  0.802819  0.101183\n",
              "2  0.0590584  0.130112  0.186997  0.644602  0.091079\n",
              "3   0.225236  0.297302  0.830568  0.039246  0.867138\n",
              "4   0.589429  0.818672  0.738312  0.773098  0.501009"
            ]
          },
          "metadata": {
            "tags": []
          },
          "execution_count": 64
        }
      ]
    },
    {
      "cell_type": "code",
      "metadata": {
        "colab": {
          "base_uri": "https://localhost:8080/",
          "height": 195
        },
        "id": "fgMUlrBwYef9",
        "outputId": "80692ad7-1c9d-44a2-9477-588121a06650"
      },
      "source": [
        "newdf.tail()"
      ],
      "execution_count": null,
      "outputs": [
        {
          "output_type": "execute_result",
          "data": {
            "text/html": [
              "<div>\n",
              "<style scoped>\n",
              "    .dataframe tbody tr th:only-of-type {\n",
              "        vertical-align: middle;\n",
              "    }\n",
              "\n",
              "    .dataframe tbody tr th {\n",
              "        vertical-align: top;\n",
              "    }\n",
              "\n",
              "    .dataframe thead th {\n",
              "        text-align: right;\n",
              "    }\n",
              "</style>\n",
              "<table border=\"1\" class=\"dataframe\">\n",
              "  <thead>\n",
              "    <tr style=\"text-align: right;\">\n",
              "      <th></th>\n",
              "      <th>0</th>\n",
              "      <th>1</th>\n",
              "      <th>2</th>\n",
              "      <th>3</th>\n",
              "      <th>4</th>\n",
              "    </tr>\n",
              "  </thead>\n",
              "  <tbody>\n",
              "    <tr>\n",
              "      <th>329</th>\n",
              "      <td>0.687815</td>\n",
              "      <td>0.364167</td>\n",
              "      <td>0.889279</td>\n",
              "      <td>0.626125</td>\n",
              "      <td>0.194622</td>\n",
              "    </tr>\n",
              "    <tr>\n",
              "      <th>330</th>\n",
              "      <td>0.898140</td>\n",
              "      <td>0.957488</td>\n",
              "      <td>0.484288</td>\n",
              "      <td>0.524652</td>\n",
              "      <td>0.959502</td>\n",
              "    </tr>\n",
              "    <tr>\n",
              "      <th>331</th>\n",
              "      <td>0.991040</td>\n",
              "      <td>0.415222</td>\n",
              "      <td>0.712595</td>\n",
              "      <td>0.809010</td>\n",
              "      <td>0.538805</td>\n",
              "    </tr>\n",
              "    <tr>\n",
              "      <th>332</th>\n",
              "      <td>0.369850</td>\n",
              "      <td>0.568933</td>\n",
              "      <td>0.078308</td>\n",
              "      <td>0.912924</td>\n",
              "      <td>0.113661</td>\n",
              "    </tr>\n",
              "    <tr>\n",
              "      <th>333</th>\n",
              "      <td>0.502281</td>\n",
              "      <td>0.572894</td>\n",
              "      <td>0.212238</td>\n",
              "      <td>0.100042</td>\n",
              "      <td>0.262723</td>\n",
              "    </tr>\n",
              "  </tbody>\n",
              "</table>\n",
              "</div>"
            ],
            "text/plain": [
              "            0         1         2         3         4\n",
              "329  0.687815  0.364167  0.889279  0.626125  0.194622\n",
              "330  0.898140  0.957488  0.484288  0.524652  0.959502\n",
              "331  0.991040  0.415222  0.712595  0.809010  0.538805\n",
              "332  0.369850  0.568933  0.078308  0.912924  0.113661\n",
              "333  0.502281  0.572894  0.212238  0.100042  0.262723"
            ]
          },
          "metadata": {
            "tags": []
          },
          "execution_count": 50
        }
      ]
    },
    {
      "cell_type": "code",
      "metadata": {
        "colab": {
          "base_uri": "https://localhost:8080/"
        },
        "id": "G354fgF6Ygd7",
        "outputId": "f0543c57-19d9-41cb-dfba-a15da2579c10"
      },
      "source": [
        "type(newdf)"
      ],
      "execution_count": null,
      "outputs": [
        {
          "output_type": "execute_result",
          "data": {
            "text/plain": [
              "pandas.core.frame.DataFrame"
            ]
          },
          "metadata": {
            "tags": []
          },
          "execution_count": 51
        }
      ]
    },
    {
      "cell_type": "code",
      "metadata": {
        "colab": {
          "base_uri": "https://localhost:8080/",
          "height": 284
        },
        "id": "RkCnes4-YjxH",
        "outputId": "c8252f02-f9cc-4f2e-ca00-826b0a31cd5b"
      },
      "source": [
        "newdf.describe()"
      ],
      "execution_count": null,
      "outputs": [
        {
          "output_type": "execute_result",
          "data": {
            "text/html": [
              "<div>\n",
              "<style scoped>\n",
              "    .dataframe tbody tr th:only-of-type {\n",
              "        vertical-align: middle;\n",
              "    }\n",
              "\n",
              "    .dataframe tbody tr th {\n",
              "        vertical-align: top;\n",
              "    }\n",
              "\n",
              "    .dataframe thead th {\n",
              "        text-align: right;\n",
              "    }\n",
              "</style>\n",
              "<table border=\"1\" class=\"dataframe\">\n",
              "  <thead>\n",
              "    <tr style=\"text-align: right;\">\n",
              "      <th></th>\n",
              "      <th>1</th>\n",
              "      <th>2</th>\n",
              "      <th>3</th>\n",
              "      <th>4</th>\n",
              "    </tr>\n",
              "  </thead>\n",
              "  <tbody>\n",
              "    <tr>\n",
              "      <th>count</th>\n",
              "      <td>334.000000</td>\n",
              "      <td>334.000000</td>\n",
              "      <td>334.000000</td>\n",
              "      <td>334.000000</td>\n",
              "    </tr>\n",
              "    <tr>\n",
              "      <th>mean</th>\n",
              "      <td>0.498639</td>\n",
              "      <td>0.496078</td>\n",
              "      <td>0.482946</td>\n",
              "      <td>0.495746</td>\n",
              "    </tr>\n",
              "    <tr>\n",
              "      <th>std</th>\n",
              "      <td>0.291462</td>\n",
              "      <td>0.293485</td>\n",
              "      <td>0.283345</td>\n",
              "      <td>0.286089</td>\n",
              "    </tr>\n",
              "    <tr>\n",
              "      <th>min</th>\n",
              "      <td>0.008116</td>\n",
              "      <td>0.005076</td>\n",
              "      <td>0.000126</td>\n",
              "      <td>0.001984</td>\n",
              "    </tr>\n",
              "    <tr>\n",
              "      <th>25%</th>\n",
              "      <td>0.224508</td>\n",
              "      <td>0.233289</td>\n",
              "      <td>0.232295</td>\n",
              "      <td>0.249794</td>\n",
              "    </tr>\n",
              "    <tr>\n",
              "      <th>50%</th>\n",
              "      <td>0.501244</td>\n",
              "      <td>0.478920</td>\n",
              "      <td>0.483318</td>\n",
              "      <td>0.484874</td>\n",
              "    </tr>\n",
              "    <tr>\n",
              "      <th>75%</th>\n",
              "      <td>0.757583</td>\n",
              "      <td>0.757936</td>\n",
              "      <td>0.703289</td>\n",
              "      <td>0.741007</td>\n",
              "    </tr>\n",
              "    <tr>\n",
              "      <th>max</th>\n",
              "      <td>0.996331</td>\n",
              "      <td>0.998914</td>\n",
              "      <td>0.999500</td>\n",
              "      <td>0.989897</td>\n",
              "    </tr>\n",
              "  </tbody>\n",
              "</table>\n",
              "</div>"
            ],
            "text/plain": [
              "                1           2           3           4\n",
              "count  334.000000  334.000000  334.000000  334.000000\n",
              "mean     0.498639    0.496078    0.482946    0.495746\n",
              "std      0.291462    0.293485    0.283345    0.286089\n",
              "min      0.008116    0.005076    0.000126    0.001984\n",
              "25%      0.224508    0.233289    0.232295    0.249794\n",
              "50%      0.501244    0.478920    0.483318    0.484874\n",
              "75%      0.757583    0.757936    0.703289    0.741007\n",
              "max      0.996331    0.998914    0.999500    0.989897"
            ]
          },
          "metadata": {
            "tags": []
          },
          "execution_count": 56
        }
      ]
    },
    {
      "cell_type": "code",
      "metadata": {
        "colab": {
          "base_uri": "https://localhost:8080/"
        },
        "id": "Xdc7x3q6Yrji",
        "outputId": "947ee103-54eb-4981-e63e-1cb27107c4fe"
      },
      "source": [
        "newdf.dtypes"
      ],
      "execution_count": null,
      "outputs": [
        {
          "output_type": "execute_result",
          "data": {
            "text/plain": [
              "0     object\n",
              "1    float64\n",
              "2    float64\n",
              "3    float64\n",
              "4    float64\n",
              "dtype: object"
            ]
          },
          "metadata": {
            "tags": []
          },
          "execution_count": 55
        }
      ]
    },
    {
      "cell_type": "code",
      "metadata": {
        "colab": {
          "base_uri": "https://localhost:8080/"
        },
        "id": "fh7oVucvY6AP",
        "outputId": "91c3704f-b799-4c4a-f0cd-bfb1e8e64fa3"
      },
      "source": [
        "newdf[0][0]=0.2"
      ],
      "execution_count": null,
      "outputs": [
        {
          "output_type": "stream",
          "text": [
            "/usr/local/lib/python3.6/dist-packages/ipykernel_launcher.py:1: SettingWithCopyWarning: \n",
            "A value is trying to be set on a copy of a slice from a DataFrame\n",
            "\n",
            "See the caveats in the documentation: https://pandas.pydata.org/pandas-docs/stable/user_guide/indexing.html#returning-a-view-versus-a-copy\n",
            "  \"\"\"Entry point for launching an IPython kernel.\n"
          ],
          "name": "stderr"
        }
      ]
    },
    {
      "cell_type": "code",
      "metadata": {
        "colab": {
          "base_uri": "https://localhost:8080/"
        },
        "id": "oBhiMxnKY-J7",
        "outputId": "a657bcdc-a65a-4497-cace-12542fe42b20"
      },
      "source": [
        "newdf.index"
      ],
      "execution_count": null,
      "outputs": [
        {
          "output_type": "execute_result",
          "data": {
            "text/plain": [
              "Int64Index([  0,   1,   2,   3,   4,   5,   6,   7,   8,   9,\n",
              "            ...\n",
              "            324, 325, 326, 327, 328, 329, 330, 331, 332, 333],\n",
              "           dtype='int64', length=334)"
            ]
          },
          "metadata": {
            "tags": []
          },
          "execution_count": 58
        }
      ]
    },
    {
      "cell_type": "code",
      "metadata": {
        "colab": {
          "base_uri": "https://localhost:8080/"
        },
        "id": "CLyhprn1ZP2P",
        "outputId": "d7af9adc-7dc6-4aae-f5fc-a755ffd05f91"
      },
      "source": [
        "newdf.columns"
      ],
      "execution_count": null,
      "outputs": [
        {
          "output_type": "execute_result",
          "data": {
            "text/plain": [
              "RangeIndex(start=0, stop=5, step=1)"
            ]
          },
          "metadata": {
            "tags": []
          },
          "execution_count": 59
        }
      ]
    },
    {
      "cell_type": "code",
      "metadata": {
        "colab": {
          "base_uri": "https://localhost:8080/"
        },
        "id": "0AbSmux_ZUxR",
        "outputId": "950c8239-6aa2-43a5-ae53-102f2f7509ad"
      },
      "source": [
        "newdf.to_numpy"
      ],
      "execution_count": null,
      "outputs": [
        {
          "output_type": "execute_result",
          "data": {
            "text/plain": [
              "<bound method DataFrame.to_numpy of              0         1         2         3         4\n",
              "0          0.2  0.143074  0.070045  0.129558  0.948316\n",
              "1     0.544827  0.437922  0.653249  0.802819  0.101183\n",
              "2    0.0590584  0.130112  0.186997  0.644602  0.091079\n",
              "3     0.225236  0.297302  0.830568  0.039246  0.867138\n",
              "4     0.589429  0.818672  0.738312  0.773098  0.501009\n",
              "..         ...       ...       ...       ...       ...\n",
              "329   0.687815  0.364167  0.889279  0.626125  0.194622\n",
              "330    0.89814  0.957488  0.484288  0.524652  0.959502\n",
              "331    0.99104  0.415222  0.712595  0.809010  0.538805\n",
              "332    0.36985  0.568933  0.078308  0.912924  0.113661\n",
              "333   0.502281  0.572894  0.212238  0.100042  0.262723\n",
              "\n",
              "[334 rows x 5 columns]>"
            ]
          },
          "metadata": {
            "tags": []
          },
          "execution_count": 67
        }
      ]
    },
    {
      "cell_type": "code",
      "metadata": {
        "colab": {
          "base_uri": "https://localhost:8080/"
        },
        "id": "tHn3MtLcabgS",
        "outputId": "3e4b439a-5e8b-4947-97f3-986ef9236af6"
      },
      "source": [
        "type(newdf)"
      ],
      "execution_count": null,
      "outputs": [
        {
          "output_type": "execute_result",
          "data": {
            "text/plain": [
              "pandas.core.frame.DataFrame"
            ]
          },
          "metadata": {
            "tags": []
          },
          "execution_count": 69
        }
      ]
    },
    {
      "cell_type": "code",
      "metadata": {
        "colab": {
          "base_uri": "https://localhost:8080/",
          "height": 244
        },
        "id": "7VKiMp6IaiZ9",
        "outputId": "33aafe84-8ace-4791-93da-79552693c481"
      },
      "source": [
        "newdf.T"
      ],
      "execution_count": null,
      "outputs": [
        {
          "output_type": "execute_result",
          "data": {
            "text/html": [
              "<div>\n",
              "<style scoped>\n",
              "    .dataframe tbody tr th:only-of-type {\n",
              "        vertical-align: middle;\n",
              "    }\n",
              "\n",
              "    .dataframe tbody tr th {\n",
              "        vertical-align: top;\n",
              "    }\n",
              "\n",
              "    .dataframe thead th {\n",
              "        text-align: right;\n",
              "    }\n",
              "</style>\n",
              "<table border=\"1\" class=\"dataframe\">\n",
              "  <thead>\n",
              "    <tr style=\"text-align: right;\">\n",
              "      <th></th>\n",
              "      <th>0</th>\n",
              "      <th>1</th>\n",
              "      <th>2</th>\n",
              "      <th>3</th>\n",
              "      <th>4</th>\n",
              "      <th>5</th>\n",
              "      <th>6</th>\n",
              "      <th>7</th>\n",
              "      <th>8</th>\n",
              "      <th>9</th>\n",
              "      <th>10</th>\n",
              "      <th>11</th>\n",
              "      <th>12</th>\n",
              "      <th>13</th>\n",
              "      <th>14</th>\n",
              "      <th>15</th>\n",
              "      <th>16</th>\n",
              "      <th>17</th>\n",
              "      <th>18</th>\n",
              "      <th>19</th>\n",
              "      <th>20</th>\n",
              "      <th>21</th>\n",
              "      <th>22</th>\n",
              "      <th>23</th>\n",
              "      <th>24</th>\n",
              "      <th>25</th>\n",
              "      <th>26</th>\n",
              "      <th>27</th>\n",
              "      <th>28</th>\n",
              "      <th>29</th>\n",
              "      <th>30</th>\n",
              "      <th>31</th>\n",
              "      <th>32</th>\n",
              "      <th>33</th>\n",
              "      <th>34</th>\n",
              "      <th>35</th>\n",
              "      <th>36</th>\n",
              "      <th>37</th>\n",
              "      <th>38</th>\n",
              "      <th>39</th>\n",
              "      <th>...</th>\n",
              "      <th>294</th>\n",
              "      <th>295</th>\n",
              "      <th>296</th>\n",
              "      <th>297</th>\n",
              "      <th>298</th>\n",
              "      <th>299</th>\n",
              "      <th>300</th>\n",
              "      <th>301</th>\n",
              "      <th>302</th>\n",
              "      <th>303</th>\n",
              "      <th>304</th>\n",
              "      <th>305</th>\n",
              "      <th>306</th>\n",
              "      <th>307</th>\n",
              "      <th>308</th>\n",
              "      <th>309</th>\n",
              "      <th>310</th>\n",
              "      <th>311</th>\n",
              "      <th>312</th>\n",
              "      <th>313</th>\n",
              "      <th>314</th>\n",
              "      <th>315</th>\n",
              "      <th>316</th>\n",
              "      <th>317</th>\n",
              "      <th>318</th>\n",
              "      <th>319</th>\n",
              "      <th>320</th>\n",
              "      <th>321</th>\n",
              "      <th>322</th>\n",
              "      <th>323</th>\n",
              "      <th>324</th>\n",
              "      <th>325</th>\n",
              "      <th>326</th>\n",
              "      <th>327</th>\n",
              "      <th>328</th>\n",
              "      <th>329</th>\n",
              "      <th>330</th>\n",
              "      <th>331</th>\n",
              "      <th>332</th>\n",
              "      <th>333</th>\n",
              "    </tr>\n",
              "  </thead>\n",
              "  <tbody>\n",
              "    <tr>\n",
              "      <th>0</th>\n",
              "      <td>500</td>\n",
              "      <td>0.544827</td>\n",
              "      <td>0.0590584</td>\n",
              "      <td>0.225236</td>\n",
              "      <td>0.589429</td>\n",
              "      <td>0.725636</td>\n",
              "      <td>0.745075</td>\n",
              "      <td>0.868663</td>\n",
              "      <td>0.515744</td>\n",
              "      <td>0.507806</td>\n",
              "      <td>0.064796</td>\n",
              "      <td>0.458886</td>\n",
              "      <td>0.500856</td>\n",
              "      <td>0.186736</td>\n",
              "      <td>0.675244</td>\n",
              "      <td>0.0983454</td>\n",
              "      <td>0.686811</td>\n",
              "      <td>0.0848452</td>\n",
              "      <td>0.464382</td>\n",
              "      <td>0.872538</td>\n",
              "      <td>0.311645</td>\n",
              "      <td>0.761208</td>\n",
              "      <td>0.946455</td>\n",
              "      <td>0.47027</td>\n",
              "      <td>0.608811</td>\n",
              "      <td>0.427588</td>\n",
              "      <td>0.886814</td>\n",
              "      <td>0.585663</td>\n",
              "      <td>0.310091</td>\n",
              "      <td>0.792994</td>\n",
              "      <td>0.216148</td>\n",
              "      <td>0.32809</td>\n",
              "      <td>0.876034</td>\n",
              "      <td>0.297932</td>\n",
              "      <td>0.914564</td>\n",
              "      <td>0.697826</td>\n",
              "      <td>0.0893263</td>\n",
              "      <td>0.74873</td>\n",
              "      <td>0.230799</td>\n",
              "      <td>0.244156</td>\n",
              "      <td>...</td>\n",
              "      <td>0.32869</td>\n",
              "      <td>0.841138</td>\n",
              "      <td>0.896539</td>\n",
              "      <td>0.769771</td>\n",
              "      <td>0.124031</td>\n",
              "      <td>0.467355</td>\n",
              "      <td>0.723683</td>\n",
              "      <td>0.210669</td>\n",
              "      <td>0.780326</td>\n",
              "      <td>0.867243</td>\n",
              "      <td>0.666074</td>\n",
              "      <td>0.187633</td>\n",
              "      <td>0.696617</td>\n",
              "      <td>0.679401</td>\n",
              "      <td>0.87206</td>\n",
              "      <td>0.459495</td>\n",
              "      <td>0.610845</td>\n",
              "      <td>0.426634</td>\n",
              "      <td>0.714493</td>\n",
              "      <td>0.644965</td>\n",
              "      <td>0.885962</td>\n",
              "      <td>0.582233</td>\n",
              "      <td>0.549422</td>\n",
              "      <td>0.896384</td>\n",
              "      <td>0.954123</td>\n",
              "      <td>0.540248</td>\n",
              "      <td>0.926239</td>\n",
              "      <td>0.766256</td>\n",
              "      <td>0.256208</td>\n",
              "      <td>0.178569</td>\n",
              "      <td>0.852682</td>\n",
              "      <td>0.230215</td>\n",
              "      <td>0.0661473</td>\n",
              "      <td>0.788421</td>\n",
              "      <td>0.455595</td>\n",
              "      <td>0.687815</td>\n",
              "      <td>0.89814</td>\n",
              "      <td>0.99104</td>\n",
              "      <td>0.36985</td>\n",
              "      <td>0.502281</td>\n",
              "    </tr>\n",
              "    <tr>\n",
              "      <th>1</th>\n",
              "      <td>0.143074</td>\n",
              "      <td>0.437922</td>\n",
              "      <td>0.130112</td>\n",
              "      <td>0.297302</td>\n",
              "      <td>0.818672</td>\n",
              "      <td>0.959342</td>\n",
              "      <td>0.188989</td>\n",
              "      <td>0.576808</td>\n",
              "      <td>0.0858107</td>\n",
              "      <td>0.673595</td>\n",
              "      <td>0.243139</td>\n",
              "      <td>0.765475</td>\n",
              "      <td>0.239925</td>\n",
              "      <td>0.0145474</td>\n",
              "      <td>0.885487</td>\n",
              "      <td>0.642157</td>\n",
              "      <td>0.910847</td>\n",
              "      <td>0.565607</td>\n",
              "      <td>0.851374</td>\n",
              "      <td>0.766048</td>\n",
              "      <td>0.414999</td>\n",
              "      <td>0.482814</td>\n",
              "      <td>0.870793</td>\n",
              "      <td>0.402051</td>\n",
              "      <td>0.68732</td>\n",
              "      <td>0.738709</td>\n",
              "      <td>0.982649</td>\n",
              "      <td>0.103703</td>\n",
              "      <td>0.321013</td>\n",
              "      <td>0.908287</td>\n",
              "      <td>0.19637</td>\n",
              "      <td>0.315946</td>\n",
              "      <td>0.360743</td>\n",
              "      <td>0.43111</td>\n",
              "      <td>0.19549</td>\n",
              "      <td>0.977401</td>\n",
              "      <td>0.69276</td>\n",
              "      <td>0.63723</td>\n",
              "      <td>0.372232</td>\n",
              "      <td>0.135122</td>\n",
              "      <td>...</td>\n",
              "      <td>0.0823158</td>\n",
              "      <td>0.354914</td>\n",
              "      <td>0.51443</td>\n",
              "      <td>0.933289</td>\n",
              "      <td>0.592748</td>\n",
              "      <td>0.398973</td>\n",
              "      <td>0.660548</td>\n",
              "      <td>0.435251</td>\n",
              "      <td>0.19905</td>\n",
              "      <td>0.706087</td>\n",
              "      <td>0.254228</td>\n",
              "      <td>0.0230837</td>\n",
              "      <td>0.0763845</td>\n",
              "      <td>0.870328</td>\n",
              "      <td>0.500342</td>\n",
              "      <td>0.953568</td>\n",
              "      <td>0.890671</td>\n",
              "      <td>0.80827</td>\n",
              "      <td>0.159982</td>\n",
              "      <td>0.0660167</td>\n",
              "      <td>0.977206</td>\n",
              "      <td>0.702153</td>\n",
              "      <td>0.221057</td>\n",
              "      <td>0.380278</td>\n",
              "      <td>0.98986</td>\n",
              "      <td>0.839291</td>\n",
              "      <td>0.212638</td>\n",
              "      <td>0.710282</td>\n",
              "      <td>0.432886</td>\n",
              "      <td>0.0139666</td>\n",
              "      <td>0.426137</td>\n",
              "      <td>0.501275</td>\n",
              "      <td>0.398418</td>\n",
              "      <td>0.225532</td>\n",
              "      <td>0.73933</td>\n",
              "      <td>0.364167</td>\n",
              "      <td>0.957488</td>\n",
              "      <td>0.415222</td>\n",
              "      <td>0.568933</td>\n",
              "      <td>0.572894</td>\n",
              "    </tr>\n",
              "    <tr>\n",
              "      <th>2</th>\n",
              "      <td>0.070045</td>\n",
              "      <td>0.653249</td>\n",
              "      <td>0.186997</td>\n",
              "      <td>0.830568</td>\n",
              "      <td>0.738312</td>\n",
              "      <td>0.200483</td>\n",
              "      <td>0.0599245</td>\n",
              "      <td>0.415635</td>\n",
              "      <td>0.463282</td>\n",
              "      <td>0.668015</td>\n",
              "      <td>0.182984</td>\n",
              "      <td>0.373796</td>\n",
              "      <td>0.635768</td>\n",
              "      <td>0.0165544</td>\n",
              "      <td>0.858403</td>\n",
              "      <td>0.150271</td>\n",
              "      <td>0.314525</td>\n",
              "      <td>0.216213</td>\n",
              "      <td>0.470212</td>\n",
              "      <td>0.423577</td>\n",
              "      <td>0.696966</td>\n",
              "      <td>0.922756</td>\n",
              "      <td>0.974981</td>\n",
              "      <td>0.252562</td>\n",
              "      <td>0.498547</td>\n",
              "      <td>0.237933</td>\n",
              "      <td>0.946581</td>\n",
              "      <td>0.764509</td>\n",
              "      <td>0.0210934</td>\n",
              "      <td>0.710016</td>\n",
              "      <td>0.204498</td>\n",
              "      <td>0.37187</td>\n",
              "      <td>0.323968</td>\n",
              "      <td>0.781864</td>\n",
              "      <td>0.383846</td>\n",
              "      <td>0.186946</td>\n",
              "      <td>0.57995</td>\n",
              "      <td>0.165486</td>\n",
              "      <td>0.275277</td>\n",
              "      <td>0.970467</td>\n",
              "      <td>...</td>\n",
              "      <td>0.0472946</td>\n",
              "      <td>0.930396</td>\n",
              "      <td>0.730704</td>\n",
              "      <td>0.576506</td>\n",
              "      <td>0.414145</td>\n",
              "      <td>0.311069</td>\n",
              "      <td>0.498454</td>\n",
              "      <td>0.449544</td>\n",
              "      <td>0.12474</td>\n",
              "      <td>0.935753</td>\n",
              "      <td>0.464535</td>\n",
              "      <td>0.700331</td>\n",
              "      <td>0.441659</td>\n",
              "      <td>0.309027</td>\n",
              "      <td>0.758596</td>\n",
              "      <td>0.106763</td>\n",
              "      <td>0.159374</td>\n",
              "      <td>0.407268</td>\n",
              "      <td>0.119922</td>\n",
              "      <td>0.625349</td>\n",
              "      <td>0.461121</td>\n",
              "      <td>0.941038</td>\n",
              "      <td>0.895185</td>\n",
              "      <td>0.245059</td>\n",
              "      <td>0.974</td>\n",
              "      <td>0.913566</td>\n",
              "      <td>0.193982</td>\n",
              "      <td>0.143063</td>\n",
              "      <td>0.84664</td>\n",
              "      <td>0.998914</td>\n",
              "      <td>0.530192</td>\n",
              "      <td>0.950007</td>\n",
              "      <td>0.552329</td>\n",
              "      <td>0.825198</td>\n",
              "      <td>0.343687</td>\n",
              "      <td>0.889279</td>\n",
              "      <td>0.484288</td>\n",
              "      <td>0.712595</td>\n",
              "      <td>0.0783077</td>\n",
              "      <td>0.212238</td>\n",
              "    </tr>\n",
              "    <tr>\n",
              "      <th>3</th>\n",
              "      <td>0.129558</td>\n",
              "      <td>0.802819</td>\n",
              "      <td>0.644602</td>\n",
              "      <td>0.0392455</td>\n",
              "      <td>0.773098</td>\n",
              "      <td>0.80373</td>\n",
              "      <td>0.621218</td>\n",
              "      <td>0.688724</td>\n",
              "      <td>0.0748306</td>\n",
              "      <td>0.687675</td>\n",
              "      <td>0.107273</td>\n",
              "      <td>0.348095</td>\n",
              "      <td>0.30751</td>\n",
              "      <td>0.747939</td>\n",
              "      <td>0.343876</td>\n",
              "      <td>0.994537</td>\n",
              "      <td>0.0241311</td>\n",
              "      <td>0.906901</td>\n",
              "      <td>0.290961</td>\n",
              "      <td>0.0738752</td>\n",
              "      <td>0.387367</td>\n",
              "      <td>0.755331</td>\n",
              "      <td>0.681073</td>\n",
              "      <td>0.653829</td>\n",
              "      <td>0.29695</td>\n",
              "      <td>0.550798</td>\n",
              "      <td>0.840665</td>\n",
              "      <td>0.701931</td>\n",
              "      <td>0.582828</td>\n",
              "      <td>0.868881</td>\n",
              "      <td>0.946911</td>\n",
              "      <td>0.488126</td>\n",
              "      <td>0.803937</td>\n",
              "      <td>0.00901322</td>\n",
              "      <td>0.948004</td>\n",
              "      <td>0.0847052</td>\n",
              "      <td>0.800422</td>\n",
              "      <td>0.419878</td>\n",
              "      <td>0.285759</td>\n",
              "      <td>0.317004</td>\n",
              "      <td>...</td>\n",
              "      <td>0.452624</td>\n",
              "      <td>0.667993</td>\n",
              "      <td>0.920713</td>\n",
              "      <td>0.135482</td>\n",
              "      <td>0.490378</td>\n",
              "      <td>0.435015</td>\n",
              "      <td>0.187695</td>\n",
              "      <td>0.524601</td>\n",
              "      <td>0.904938</td>\n",
              "      <td>0.483408</td>\n",
              "      <td>0.404601</td>\n",
              "      <td>0.703073</td>\n",
              "      <td>0.544686</td>\n",
              "      <td>0.125364</td>\n",
              "      <td>0.529958</td>\n",
              "      <td>0.559836</td>\n",
              "      <td>0.694924</td>\n",
              "      <td>0.413675</td>\n",
              "      <td>0.804446</td>\n",
              "      <td>0.747439</td>\n",
              "      <td>0.542744</td>\n",
              "      <td>0.47321</td>\n",
              "      <td>0.775717</td>\n",
              "      <td>0.160785</td>\n",
              "      <td>0.047532</td>\n",
              "      <td>0.827177</td>\n",
              "      <td>0.965715</td>\n",
              "      <td>0.217403</td>\n",
              "      <td>0.196914</td>\n",
              "      <td>0.343782</td>\n",
              "      <td>0.238597</td>\n",
              "      <td>0.0217037</td>\n",
              "      <td>0.55376</td>\n",
              "      <td>0.00154985</td>\n",
              "      <td>0.465604</td>\n",
              "      <td>0.626125</td>\n",
              "      <td>0.524652</td>\n",
              "      <td>0.80901</td>\n",
              "      <td>0.912924</td>\n",
              "      <td>0.100042</td>\n",
              "    </tr>\n",
              "    <tr>\n",
              "      <th>4</th>\n",
              "      <td>0.948316</td>\n",
              "      <td>0.101183</td>\n",
              "      <td>0.0910794</td>\n",
              "      <td>0.867138</td>\n",
              "      <td>0.501009</td>\n",
              "      <td>0.547622</td>\n",
              "      <td>0.289466</td>\n",
              "      <td>0.867568</td>\n",
              "      <td>0.367962</td>\n",
              "      <td>0.841733</td>\n",
              "      <td>0.580278</td>\n",
              "      <td>0.93882</td>\n",
              "      <td>0.0914341</td>\n",
              "      <td>0.884661</td>\n",
              "      <td>0.287109</td>\n",
              "      <td>0.0847876</td>\n",
              "      <td>0.523122</td>\n",
              "      <td>0.271672</td>\n",
              "      <td>0.708277</td>\n",
              "      <td>0.200537</td>\n",
              "      <td>0.0601641</td>\n",
              "      <td>0.00198446</td>\n",
              "      <td>0.0528166</td>\n",
              "      <td>0.824267</td>\n",
              "      <td>0.339175</td>\n",
              "      <td>0.741156</td>\n",
              "      <td>0.701666</td>\n",
              "      <td>0.709054</td>\n",
              "      <td>0.478855</td>\n",
              "      <td>0.357213</td>\n",
              "      <td>0.197093</td>\n",
              "      <td>0.364693</td>\n",
              "      <td>0.168702</td>\n",
              "      <td>0.923705</td>\n",
              "      <td>0.295633</td>\n",
              "      <td>0.141871</td>\n",
              "      <td>0.295082</td>\n",
              "      <td>0.236769</td>\n",
              "      <td>0.34096</td>\n",
              "      <td>0.139329</td>\n",
              "      <td>...</td>\n",
              "      <td>0.252273</td>\n",
              "      <td>0.572105</td>\n",
              "      <td>0.531323</td>\n",
              "      <td>0.576113</td>\n",
              "      <td>0.539749</td>\n",
              "      <td>0.0992143</td>\n",
              "      <td>0.458773</td>\n",
              "      <td>0.420976</td>\n",
              "      <td>0.909091</td>\n",
              "      <td>0.667289</td>\n",
              "      <td>0.6081</td>\n",
              "      <td>0.487237</td>\n",
              "      <td>0.445083</td>\n",
              "      <td>0.63021</td>\n",
              "      <td>0.388868</td>\n",
              "      <td>0.667747</td>\n",
              "      <td>0.866131</td>\n",
              "      <td>0.659487</td>\n",
              "      <td>0.790494</td>\n",
              "      <td>0.292952</td>\n",
              "      <td>0.295934</td>\n",
              "      <td>0.423417</td>\n",
              "      <td>0.584976</td>\n",
              "      <td>0.493067</td>\n",
              "      <td>0.76908</td>\n",
              "      <td>0.874995</td>\n",
              "      <td>0.0369953</td>\n",
              "      <td>0.463995</td>\n",
              "      <td>0.9705</td>\n",
              "      <td>0.794194</td>\n",
              "      <td>0.751693</td>\n",
              "      <td>0.724002</td>\n",
              "      <td>0.935732</td>\n",
              "      <td>0.527119</td>\n",
              "      <td>0.74056</td>\n",
              "      <td>0.194622</td>\n",
              "      <td>0.959502</td>\n",
              "      <td>0.538805</td>\n",
              "      <td>0.113661</td>\n",
              "      <td>0.262723</td>\n",
              "    </tr>\n",
              "  </tbody>\n",
              "</table>\n",
              "<p>5 rows × 334 columns</p>\n",
              "</div>"
            ],
            "text/plain": [
              "        0         1          2    ...       331        332       333\n",
              "0       500  0.544827  0.0590584  ...   0.99104    0.36985  0.502281\n",
              "1  0.143074  0.437922   0.130112  ...  0.415222   0.568933  0.572894\n",
              "2  0.070045  0.653249   0.186997  ...  0.712595  0.0783077  0.212238\n",
              "3  0.129558  0.802819   0.644602  ...   0.80901   0.912924  0.100042\n",
              "4  0.948316  0.101183  0.0910794  ...  0.538805   0.113661  0.262723\n",
              "\n",
              "[5 rows x 334 columns]"
            ]
          },
          "metadata": {
            "tags": []
          },
          "execution_count": 82
        }
      ]
    },
    {
      "cell_type": "code",
      "metadata": {
        "colab": {
          "base_uri": "https://localhost:8080/",
          "height": 195
        },
        "id": "vBRownBeas-F",
        "outputId": "0bb7a46e-d929-435b-aea9-d0b7a791aa76"
      },
      "source": [
        "newdf.head()"
      ],
      "execution_count": null,
      "outputs": [
        {
          "output_type": "execute_result",
          "data": {
            "text/html": [
              "<div>\n",
              "<style scoped>\n",
              "    .dataframe tbody tr th:only-of-type {\n",
              "        vertical-align: middle;\n",
              "    }\n",
              "\n",
              "    .dataframe tbody tr th {\n",
              "        vertical-align: top;\n",
              "    }\n",
              "\n",
              "    .dataframe thead th {\n",
              "        text-align: right;\n",
              "    }\n",
              "</style>\n",
              "<table border=\"1\" class=\"dataframe\">\n",
              "  <thead>\n",
              "    <tr style=\"text-align: right;\">\n",
              "      <th></th>\n",
              "      <th>H</th>\n",
              "      <th>r</th>\n",
              "      <th>u</th>\n",
              "      <th>s</th>\n",
              "      <th>h</th>\n",
              "    </tr>\n",
              "  </thead>\n",
              "  <tbody>\n",
              "    <tr>\n",
              "      <th>0</th>\n",
              "      <td>111</td>\n",
              "      <td>0.143074</td>\n",
              "      <td>0.070045</td>\n",
              "      <td>0.129558</td>\n",
              "      <td>112.000000</td>\n",
              "    </tr>\n",
              "    <tr>\n",
              "      <th>1</th>\n",
              "      <td>0.544827</td>\n",
              "      <td>0.437922</td>\n",
              "      <td>0.653249</td>\n",
              "      <td>0.802819</td>\n",
              "      <td>0.101183</td>\n",
              "    </tr>\n",
              "    <tr>\n",
              "      <th>2</th>\n",
              "      <td>0.0590584</td>\n",
              "      <td>0.130112</td>\n",
              "      <td>0.186997</td>\n",
              "      <td>0.644602</td>\n",
              "      <td>0.091079</td>\n",
              "    </tr>\n",
              "    <tr>\n",
              "      <th>3</th>\n",
              "      <td>0.225236</td>\n",
              "      <td>0.297302</td>\n",
              "      <td>0.830568</td>\n",
              "      <td>0.039246</td>\n",
              "      <td>0.867138</td>\n",
              "    </tr>\n",
              "    <tr>\n",
              "      <th>4</th>\n",
              "      <td>0.589429</td>\n",
              "      <td>0.818672</td>\n",
              "      <td>0.738312</td>\n",
              "      <td>0.773098</td>\n",
              "      <td>0.501009</td>\n",
              "    </tr>\n",
              "  </tbody>\n",
              "</table>\n",
              "</div>"
            ],
            "text/plain": [
              "           H         r         u         s           h\n",
              "0        111  0.143074  0.070045  0.129558  112.000000\n",
              "1   0.544827  0.437922  0.653249  0.802819    0.101183\n",
              "2  0.0590584  0.130112  0.186997  0.644602    0.091079\n",
              "3   0.225236  0.297302  0.830568  0.039246    0.867138\n",
              "4   0.589429  0.818672  0.738312  0.773098    0.501009"
            ]
          },
          "metadata": {
            "tags": []
          },
          "execution_count": 104
        }
      ]
    },
    {
      "cell_type": "code",
      "metadata": {
        "colab": {
          "base_uri": "https://localhost:8080/",
          "height": 402
        },
        "id": "r3pG_WWCa9EH",
        "outputId": "70ccf5dd-b1a4-4495-f158-eecd3bc39432"
      },
      "source": [
        "newdf.sort_index(axis=1,ascending=False)"
      ],
      "execution_count": null,
      "outputs": [
        {
          "output_type": "execute_result",
          "data": {
            "text/html": [
              "<div>\n",
              "<style scoped>\n",
              "    .dataframe tbody tr th:only-of-type {\n",
              "        vertical-align: middle;\n",
              "    }\n",
              "\n",
              "    .dataframe tbody tr th {\n",
              "        vertical-align: top;\n",
              "    }\n",
              "\n",
              "    .dataframe thead th {\n",
              "        text-align: right;\n",
              "    }\n",
              "</style>\n",
              "<table border=\"1\" class=\"dataframe\">\n",
              "  <thead>\n",
              "    <tr style=\"text-align: right;\">\n",
              "      <th></th>\n",
              "      <th>4</th>\n",
              "      <th>3</th>\n",
              "      <th>2</th>\n",
              "      <th>1</th>\n",
              "      <th>0</th>\n",
              "    </tr>\n",
              "  </thead>\n",
              "  <tbody>\n",
              "    <tr>\n",
              "      <th>0</th>\n",
              "      <td>0.948316</td>\n",
              "      <td>0.129558</td>\n",
              "      <td>0.070045</td>\n",
              "      <td>0.143074</td>\n",
              "      <td>0.2</td>\n",
              "    </tr>\n",
              "    <tr>\n",
              "      <th>1</th>\n",
              "      <td>0.101183</td>\n",
              "      <td>0.802819</td>\n",
              "      <td>0.653249</td>\n",
              "      <td>0.437922</td>\n",
              "      <td>0.544827</td>\n",
              "    </tr>\n",
              "    <tr>\n",
              "      <th>2</th>\n",
              "      <td>0.091079</td>\n",
              "      <td>0.644602</td>\n",
              "      <td>0.186997</td>\n",
              "      <td>0.130112</td>\n",
              "      <td>0.0590584</td>\n",
              "    </tr>\n",
              "    <tr>\n",
              "      <th>3</th>\n",
              "      <td>0.867138</td>\n",
              "      <td>0.039246</td>\n",
              "      <td>0.830568</td>\n",
              "      <td>0.297302</td>\n",
              "      <td>0.225236</td>\n",
              "    </tr>\n",
              "    <tr>\n",
              "      <th>4</th>\n",
              "      <td>0.501009</td>\n",
              "      <td>0.773098</td>\n",
              "      <td>0.738312</td>\n",
              "      <td>0.818672</td>\n",
              "      <td>0.589429</td>\n",
              "    </tr>\n",
              "    <tr>\n",
              "      <th>...</th>\n",
              "      <td>...</td>\n",
              "      <td>...</td>\n",
              "      <td>...</td>\n",
              "      <td>...</td>\n",
              "      <td>...</td>\n",
              "    </tr>\n",
              "    <tr>\n",
              "      <th>329</th>\n",
              "      <td>0.194622</td>\n",
              "      <td>0.626125</td>\n",
              "      <td>0.889279</td>\n",
              "      <td>0.364167</td>\n",
              "      <td>0.687815</td>\n",
              "    </tr>\n",
              "    <tr>\n",
              "      <th>330</th>\n",
              "      <td>0.959502</td>\n",
              "      <td>0.524652</td>\n",
              "      <td>0.484288</td>\n",
              "      <td>0.957488</td>\n",
              "      <td>0.89814</td>\n",
              "    </tr>\n",
              "    <tr>\n",
              "      <th>331</th>\n",
              "      <td>0.538805</td>\n",
              "      <td>0.809010</td>\n",
              "      <td>0.712595</td>\n",
              "      <td>0.415222</td>\n",
              "      <td>0.99104</td>\n",
              "    </tr>\n",
              "    <tr>\n",
              "      <th>332</th>\n",
              "      <td>0.113661</td>\n",
              "      <td>0.912924</td>\n",
              "      <td>0.078308</td>\n",
              "      <td>0.568933</td>\n",
              "      <td>0.36985</td>\n",
              "    </tr>\n",
              "    <tr>\n",
              "      <th>333</th>\n",
              "      <td>0.262723</td>\n",
              "      <td>0.100042</td>\n",
              "      <td>0.212238</td>\n",
              "      <td>0.572894</td>\n",
              "      <td>0.502281</td>\n",
              "    </tr>\n",
              "  </tbody>\n",
              "</table>\n",
              "<p>334 rows × 5 columns</p>\n",
              "</div>"
            ],
            "text/plain": [
              "            4         3         2         1          0\n",
              "0    0.948316  0.129558  0.070045  0.143074        0.2\n",
              "1    0.101183  0.802819  0.653249  0.437922   0.544827\n",
              "2    0.091079  0.644602  0.186997  0.130112  0.0590584\n",
              "3    0.867138  0.039246  0.830568  0.297302   0.225236\n",
              "4    0.501009  0.773098  0.738312  0.818672   0.589429\n",
              "..        ...       ...       ...       ...        ...\n",
              "329  0.194622  0.626125  0.889279  0.364167   0.687815\n",
              "330  0.959502  0.524652  0.484288  0.957488    0.89814\n",
              "331  0.538805  0.809010  0.712595  0.415222    0.99104\n",
              "332  0.113661  0.912924  0.078308  0.568933    0.36985\n",
              "333  0.262723  0.100042  0.212238  0.572894   0.502281\n",
              "\n",
              "[334 rows x 5 columns]"
            ]
          },
          "metadata": {
            "tags": []
          },
          "execution_count": 74
        }
      ]
    },
    {
      "cell_type": "code",
      "metadata": {
        "colab": {
          "base_uri": "https://localhost:8080/"
        },
        "id": "QqPASeeLbPiU",
        "outputId": "3d61b697-f70c-4e5f-ccf8-b1a5cb469799"
      },
      "source": [
        "newdf[0]"
      ],
      "execution_count": null,
      "outputs": [
        {
          "output_type": "execute_result",
          "data": {
            "text/plain": [
              "0            0.2\n",
              "1       0.544827\n",
              "2      0.0590584\n",
              "3       0.225236\n",
              "4       0.589429\n",
              "         ...    \n",
              "329     0.687815\n",
              "330      0.89814\n",
              "331      0.99104\n",
              "332      0.36985\n",
              "333     0.502281\n",
              "Name: 0, Length: 334, dtype: object"
            ]
          },
          "metadata": {
            "tags": []
          },
          "execution_count": 76
        }
      ]
    },
    {
      "cell_type": "code",
      "metadata": {
        "id": "6jevIrEdbY1W"
      },
      "source": [
        "newdf2=newdf.copy()"
      ],
      "execution_count": null,
      "outputs": []
    },
    {
      "cell_type": "code",
      "metadata": {
        "colab": {
          "base_uri": "https://localhost:8080/"
        },
        "id": "EOQJrWifbkyW",
        "outputId": "406831e6-ea6f-499b-ac5f-632958082a2d"
      },
      "source": [
        "newdf2[0][0]=100"
      ],
      "execution_count": null,
      "outputs": [
        {
          "output_type": "stream",
          "text": [
            "/usr/local/lib/python3.6/dist-packages/ipykernel_launcher.py:1: SettingWithCopyWarning: \n",
            "A value is trying to be set on a copy of a slice from a DataFrame\n",
            "\n",
            "See the caveats in the documentation: https://pandas.pydata.org/pandas-docs/stable/user_guide/indexing.html#returning-a-view-versus-a-copy\n",
            "  \"\"\"Entry point for launching an IPython kernel.\n"
          ],
          "name": "stderr"
        }
      ]
    },
    {
      "cell_type": "code",
      "metadata": {
        "id": "KryqOTtgciUY"
      },
      "source": [
        "newdf.loc[0,0]=111"
      ],
      "execution_count": null,
      "outputs": []
    },
    {
      "cell_type": "code",
      "metadata": {
        "id": "Tv5i00_pdCmr"
      },
      "source": [
        "newdf.columns=list('Hrush')"
      ],
      "execution_count": null,
      "outputs": []
    },
    {
      "cell_type": "code",
      "metadata": {
        "id": "tKlSykfCdKWo"
      },
      "source": [
        "newdf.loc[0,'h']=112"
      ],
      "execution_count": null,
      "outputs": []
    },
    {
      "cell_type": "code",
      "metadata": {
        "colab": {
          "base_uri": "https://localhost:8080/",
          "height": 402
        },
        "id": "wtm4wj-PdZmg",
        "outputId": "9346fd8b-ce58-46c2-89bd-d6ecb9f796a4"
      },
      "source": [
        "newdf.drop(0,axis=0)"
      ],
      "execution_count": null,
      "outputs": [
        {
          "output_type": "execute_result",
          "data": {
            "text/html": [
              "<div>\n",
              "<style scoped>\n",
              "    .dataframe tbody tr th:only-of-type {\n",
              "        vertical-align: middle;\n",
              "    }\n",
              "\n",
              "    .dataframe tbody tr th {\n",
              "        vertical-align: top;\n",
              "    }\n",
              "\n",
              "    .dataframe thead th {\n",
              "        text-align: right;\n",
              "    }\n",
              "</style>\n",
              "<table border=\"1\" class=\"dataframe\">\n",
              "  <thead>\n",
              "    <tr style=\"text-align: right;\">\n",
              "      <th></th>\n",
              "      <th>H</th>\n",
              "      <th>r</th>\n",
              "      <th>u</th>\n",
              "      <th>s</th>\n",
              "      <th>h</th>\n",
              "    </tr>\n",
              "  </thead>\n",
              "  <tbody>\n",
              "    <tr>\n",
              "      <th>1</th>\n",
              "      <td>0.544827</td>\n",
              "      <td>0.437922</td>\n",
              "      <td>0.653249</td>\n",
              "      <td>0.802819</td>\n",
              "      <td>0.101183</td>\n",
              "    </tr>\n",
              "    <tr>\n",
              "      <th>2</th>\n",
              "      <td>0.0590584</td>\n",
              "      <td>0.130112</td>\n",
              "      <td>0.186997</td>\n",
              "      <td>0.644602</td>\n",
              "      <td>0.091079</td>\n",
              "    </tr>\n",
              "    <tr>\n",
              "      <th>3</th>\n",
              "      <td>0.225236</td>\n",
              "      <td>0.297302</td>\n",
              "      <td>0.830568</td>\n",
              "      <td>0.039246</td>\n",
              "      <td>0.867138</td>\n",
              "    </tr>\n",
              "    <tr>\n",
              "      <th>4</th>\n",
              "      <td>0.589429</td>\n",
              "      <td>0.818672</td>\n",
              "      <td>0.738312</td>\n",
              "      <td>0.773098</td>\n",
              "      <td>0.501009</td>\n",
              "    </tr>\n",
              "    <tr>\n",
              "      <th>5</th>\n",
              "      <td>0.725636</td>\n",
              "      <td>0.959342</td>\n",
              "      <td>0.200483</td>\n",
              "      <td>0.803730</td>\n",
              "      <td>0.547622</td>\n",
              "    </tr>\n",
              "    <tr>\n",
              "      <th>...</th>\n",
              "      <td>...</td>\n",
              "      <td>...</td>\n",
              "      <td>...</td>\n",
              "      <td>...</td>\n",
              "      <td>...</td>\n",
              "    </tr>\n",
              "    <tr>\n",
              "      <th>329</th>\n",
              "      <td>0.687815</td>\n",
              "      <td>0.364167</td>\n",
              "      <td>0.889279</td>\n",
              "      <td>0.626125</td>\n",
              "      <td>0.194622</td>\n",
              "    </tr>\n",
              "    <tr>\n",
              "      <th>330</th>\n",
              "      <td>0.89814</td>\n",
              "      <td>0.957488</td>\n",
              "      <td>0.484288</td>\n",
              "      <td>0.524652</td>\n",
              "      <td>0.959502</td>\n",
              "    </tr>\n",
              "    <tr>\n",
              "      <th>331</th>\n",
              "      <td>0.99104</td>\n",
              "      <td>0.415222</td>\n",
              "      <td>0.712595</td>\n",
              "      <td>0.809010</td>\n",
              "      <td>0.538805</td>\n",
              "    </tr>\n",
              "    <tr>\n",
              "      <th>332</th>\n",
              "      <td>0.36985</td>\n",
              "      <td>0.568933</td>\n",
              "      <td>0.078308</td>\n",
              "      <td>0.912924</td>\n",
              "      <td>0.113661</td>\n",
              "    </tr>\n",
              "    <tr>\n",
              "      <th>333</th>\n",
              "      <td>0.502281</td>\n",
              "      <td>0.572894</td>\n",
              "      <td>0.212238</td>\n",
              "      <td>0.100042</td>\n",
              "      <td>0.262723</td>\n",
              "    </tr>\n",
              "  </tbody>\n",
              "</table>\n",
              "<p>333 rows × 5 columns</p>\n",
              "</div>"
            ],
            "text/plain": [
              "             H         r         u         s         h\n",
              "1     0.544827  0.437922  0.653249  0.802819  0.101183\n",
              "2    0.0590584  0.130112  0.186997  0.644602  0.091079\n",
              "3     0.225236  0.297302  0.830568  0.039246  0.867138\n",
              "4     0.589429  0.818672  0.738312  0.773098  0.501009\n",
              "5     0.725636  0.959342  0.200483  0.803730  0.547622\n",
              "..         ...       ...       ...       ...       ...\n",
              "329   0.687815  0.364167  0.889279  0.626125  0.194622\n",
              "330    0.89814  0.957488  0.484288  0.524652  0.959502\n",
              "331    0.99104  0.415222  0.712595  0.809010  0.538805\n",
              "332    0.36985  0.568933  0.078308  0.912924  0.113661\n",
              "333   0.502281  0.572894  0.212238  0.100042  0.262723\n",
              "\n",
              "[333 rows x 5 columns]"
            ]
          },
          "metadata": {
            "tags": []
          },
          "execution_count": 97
        }
      ]
    },
    {
      "cell_type": "code",
      "metadata": {
        "colab": {
          "base_uri": "https://localhost:8080/",
          "height": 106
        },
        "id": "Bk0IPJzad3rr",
        "outputId": "f360a3c4-c27b-4653-9875-bf2e62e8b9fc"
      },
      "source": [
        "newdf.loc[[2,3],['h','r']]"
      ],
      "execution_count": null,
      "outputs": [
        {
          "output_type": "execute_result",
          "data": {
            "text/html": [
              "<div>\n",
              "<style scoped>\n",
              "    .dataframe tbody tr th:only-of-type {\n",
              "        vertical-align: middle;\n",
              "    }\n",
              "\n",
              "    .dataframe tbody tr th {\n",
              "        vertical-align: top;\n",
              "    }\n",
              "\n",
              "    .dataframe thead th {\n",
              "        text-align: right;\n",
              "    }\n",
              "</style>\n",
              "<table border=\"1\" class=\"dataframe\">\n",
              "  <thead>\n",
              "    <tr style=\"text-align: right;\">\n",
              "      <th></th>\n",
              "      <th>h</th>\n",
              "      <th>r</th>\n",
              "    </tr>\n",
              "  </thead>\n",
              "  <tbody>\n",
              "    <tr>\n",
              "      <th>2</th>\n",
              "      <td>0.091079</td>\n",
              "      <td>0.130112</td>\n",
              "    </tr>\n",
              "    <tr>\n",
              "      <th>3</th>\n",
              "      <td>0.867138</td>\n",
              "      <td>0.297302</td>\n",
              "    </tr>\n",
              "  </tbody>\n",
              "</table>\n",
              "</div>"
            ],
            "text/plain": [
              "          h         r\n",
              "2  0.091079  0.130112\n",
              "3  0.867138  0.297302"
            ]
          },
          "metadata": {
            "tags": []
          },
          "execution_count": 99
        }
      ]
    },
    {
      "cell_type": "code",
      "metadata": {
        "colab": {
          "base_uri": "https://localhost:8080/",
          "height": 402
        },
        "id": "4ck_4T-TeenM",
        "outputId": "ed2a67b3-d193-4214-989b-f2b4c4fec423"
      },
      "source": [
        "newdf.loc[(newdf['H']>0.2) & (newdf['r']>0.4)]"
      ],
      "execution_count": null,
      "outputs": [
        {
          "output_type": "execute_result",
          "data": {
            "text/html": [
              "<div>\n",
              "<style scoped>\n",
              "    .dataframe tbody tr th:only-of-type {\n",
              "        vertical-align: middle;\n",
              "    }\n",
              "\n",
              "    .dataframe tbody tr th {\n",
              "        vertical-align: top;\n",
              "    }\n",
              "\n",
              "    .dataframe thead th {\n",
              "        text-align: right;\n",
              "    }\n",
              "</style>\n",
              "<table border=\"1\" class=\"dataframe\">\n",
              "  <thead>\n",
              "    <tr style=\"text-align: right;\">\n",
              "      <th></th>\n",
              "      <th>H</th>\n",
              "      <th>r</th>\n",
              "      <th>u</th>\n",
              "      <th>s</th>\n",
              "      <th>h</th>\n",
              "    </tr>\n",
              "  </thead>\n",
              "  <tbody>\n",
              "    <tr>\n",
              "      <th>1</th>\n",
              "      <td>0.544827</td>\n",
              "      <td>0.437922</td>\n",
              "      <td>0.653249</td>\n",
              "      <td>0.802819</td>\n",
              "      <td>0.101183</td>\n",
              "    </tr>\n",
              "    <tr>\n",
              "      <th>4</th>\n",
              "      <td>0.589429</td>\n",
              "      <td>0.818672</td>\n",
              "      <td>0.738312</td>\n",
              "      <td>0.773098</td>\n",
              "      <td>0.501009</td>\n",
              "    </tr>\n",
              "    <tr>\n",
              "      <th>5</th>\n",
              "      <td>0.725636</td>\n",
              "      <td>0.959342</td>\n",
              "      <td>0.200483</td>\n",
              "      <td>0.803730</td>\n",
              "      <td>0.547622</td>\n",
              "    </tr>\n",
              "    <tr>\n",
              "      <th>7</th>\n",
              "      <td>0.868663</td>\n",
              "      <td>0.576808</td>\n",
              "      <td>0.415635</td>\n",
              "      <td>0.688724</td>\n",
              "      <td>0.867568</td>\n",
              "    </tr>\n",
              "    <tr>\n",
              "      <th>9</th>\n",
              "      <td>0.507806</td>\n",
              "      <td>0.673595</td>\n",
              "      <td>0.668015</td>\n",
              "      <td>0.687675</td>\n",
              "      <td>0.841733</td>\n",
              "    </tr>\n",
              "    <tr>\n",
              "      <th>...</th>\n",
              "      <td>...</td>\n",
              "      <td>...</td>\n",
              "      <td>...</td>\n",
              "      <td>...</td>\n",
              "      <td>...</td>\n",
              "    </tr>\n",
              "    <tr>\n",
              "      <th>328</th>\n",
              "      <td>0.455595</td>\n",
              "      <td>0.739330</td>\n",
              "      <td>0.343687</td>\n",
              "      <td>0.465604</td>\n",
              "      <td>0.740560</td>\n",
              "    </tr>\n",
              "    <tr>\n",
              "      <th>330</th>\n",
              "      <td>0.89814</td>\n",
              "      <td>0.957488</td>\n",
              "      <td>0.484288</td>\n",
              "      <td>0.524652</td>\n",
              "      <td>0.959502</td>\n",
              "    </tr>\n",
              "    <tr>\n",
              "      <th>331</th>\n",
              "      <td>0.99104</td>\n",
              "      <td>0.415222</td>\n",
              "      <td>0.712595</td>\n",
              "      <td>0.809010</td>\n",
              "      <td>0.538805</td>\n",
              "    </tr>\n",
              "    <tr>\n",
              "      <th>332</th>\n",
              "      <td>0.36985</td>\n",
              "      <td>0.568933</td>\n",
              "      <td>0.078308</td>\n",
              "      <td>0.912924</td>\n",
              "      <td>0.113661</td>\n",
              "    </tr>\n",
              "    <tr>\n",
              "      <th>333</th>\n",
              "      <td>0.502281</td>\n",
              "      <td>0.572894</td>\n",
              "      <td>0.212238</td>\n",
              "      <td>0.100042</td>\n",
              "      <td>0.262723</td>\n",
              "    </tr>\n",
              "  </tbody>\n",
              "</table>\n",
              "<p>161 rows × 5 columns</p>\n",
              "</div>"
            ],
            "text/plain": [
              "            H         r         u         s         h\n",
              "1    0.544827  0.437922  0.653249  0.802819  0.101183\n",
              "4    0.589429  0.818672  0.738312  0.773098  0.501009\n",
              "5    0.725636  0.959342  0.200483  0.803730  0.547622\n",
              "7    0.868663  0.576808  0.415635  0.688724  0.867568\n",
              "9    0.507806  0.673595  0.668015  0.687675  0.841733\n",
              "..        ...       ...       ...       ...       ...\n",
              "328  0.455595  0.739330  0.343687  0.465604  0.740560\n",
              "330   0.89814  0.957488  0.484288  0.524652  0.959502\n",
              "331   0.99104  0.415222  0.712595  0.809010  0.538805\n",
              "332   0.36985  0.568933  0.078308  0.912924  0.113661\n",
              "333  0.502281  0.572894  0.212238  0.100042  0.262723\n",
              "\n",
              "[161 rows x 5 columns]"
            ]
          },
          "metadata": {
            "tags": []
          },
          "execution_count": 102
        }
      ]
    },
    {
      "cell_type": "code",
      "metadata": {
        "colab": {
          "base_uri": "https://localhost:8080/",
          "height": 106
        },
        "id": "OgRT-ixTeyW8",
        "outputId": "a63c1997-2388-4346-d69e-adb92a4374fc"
      },
      "source": [
        "newdf.iloc[[0,0],[2,2]]"
      ],
      "execution_count": null,
      "outputs": [
        {
          "output_type": "execute_result",
          "data": {
            "text/html": [
              "<div>\n",
              "<style scoped>\n",
              "    .dataframe tbody tr th:only-of-type {\n",
              "        vertical-align: middle;\n",
              "    }\n",
              "\n",
              "    .dataframe tbody tr th {\n",
              "        vertical-align: top;\n",
              "    }\n",
              "\n",
              "    .dataframe thead th {\n",
              "        text-align: right;\n",
              "    }\n",
              "</style>\n",
              "<table border=\"1\" class=\"dataframe\">\n",
              "  <thead>\n",
              "    <tr style=\"text-align: right;\">\n",
              "      <th></th>\n",
              "      <th>u</th>\n",
              "      <th>u</th>\n",
              "    </tr>\n",
              "  </thead>\n",
              "  <tbody>\n",
              "    <tr>\n",
              "      <th>0</th>\n",
              "      <td>0.070045</td>\n",
              "      <td>0.070045</td>\n",
              "    </tr>\n",
              "    <tr>\n",
              "      <th>0</th>\n",
              "      <td>0.070045</td>\n",
              "      <td>0.070045</td>\n",
              "    </tr>\n",
              "  </tbody>\n",
              "</table>\n",
              "</div>"
            ],
            "text/plain": [
              "          u         u\n",
              "0  0.070045  0.070045\n",
              "0  0.070045  0.070045"
            ]
          },
          "metadata": {
            "tags": []
          },
          "execution_count": 106
        }
      ]
    },
    {
      "cell_type": "code",
      "metadata": {
        "id": "0ML6FsHnfz6s"
      },
      "source": [
        "newdf.drop([1,5],axis=0,inplace=True)"
      ],
      "execution_count": null,
      "outputs": []
    },
    {
      "cell_type": "code",
      "metadata": {
        "id": "GVTN_t5ef-JE"
      },
      "source": [
        "newdf.reset_index(inplace=True)"
      ],
      "execution_count": null,
      "outputs": []
    },
    {
      "cell_type": "code",
      "metadata": {
        "colab": {
          "base_uri": "https://localhost:8080/"
        },
        "id": "V3Q_BHIUgMJH",
        "outputId": "862b794a-2519-4a94-f67d-ff7a3b8d38c5"
      },
      "source": [
        "newdf['r'].isnull()"
      ],
      "execution_count": null,
      "outputs": [
        {
          "output_type": "execute_result",
          "data": {
            "text/plain": [
              "0      False\n",
              "1      False\n",
              "2      False\n",
              "3      False\n",
              "4      False\n",
              "       ...  \n",
              "327    False\n",
              "328    False\n",
              "329    False\n",
              "330    False\n",
              "331    False\n",
              "Name: r, Length: 332, dtype: bool"
            ]
          },
          "metadata": {
            "tags": []
          },
          "execution_count": 120
        }
      ]
    },
    {
      "cell_type": "code",
      "metadata": {
        "id": "C5wgTWOKgvB-"
      },
      "source": [
        "newdf.loc[:,'h']=None"
      ],
      "execution_count": null,
      "outputs": []
    },
    {
      "cell_type": "code",
      "metadata": {
        "id": "99QeddKCg7qr",
        "colab": {
          "base_uri": "https://localhost:8080/",
          "height": 402
        },
        "outputId": "5245005a-c4fc-4842-f190-beaceb591c4b"
      },
      "source": [
        "newdf"
      ],
      "execution_count": null,
      "outputs": [
        {
          "output_type": "execute_result",
          "data": {
            "text/html": [
              "<div>\n",
              "<style scoped>\n",
              "    .dataframe tbody tr th:only-of-type {\n",
              "        vertical-align: middle;\n",
              "    }\n",
              "\n",
              "    .dataframe tbody tr th {\n",
              "        vertical-align: top;\n",
              "    }\n",
              "\n",
              "    .dataframe thead th {\n",
              "        text-align: right;\n",
              "    }\n",
              "</style>\n",
              "<table border=\"1\" class=\"dataframe\">\n",
              "  <thead>\n",
              "    <tr style=\"text-align: right;\">\n",
              "      <th></th>\n",
              "      <th>level_0</th>\n",
              "      <th>index</th>\n",
              "      <th>H</th>\n",
              "      <th>r</th>\n",
              "      <th>u</th>\n",
              "      <th>s</th>\n",
              "      <th>h</th>\n",
              "    </tr>\n",
              "  </thead>\n",
              "  <tbody>\n",
              "    <tr>\n",
              "      <th>0</th>\n",
              "      <td>0</td>\n",
              "      <td>0</td>\n",
              "      <td>111</td>\n",
              "      <td>None</td>\n",
              "      <td>0.070045</td>\n",
              "      <td>0.129558</td>\n",
              "      <td>None</td>\n",
              "    </tr>\n",
              "    <tr>\n",
              "      <th>1</th>\n",
              "      <td>1</td>\n",
              "      <td>2</td>\n",
              "      <td>0.0590584</td>\n",
              "      <td>None</td>\n",
              "      <td>0.186997</td>\n",
              "      <td>0.644602</td>\n",
              "      <td>None</td>\n",
              "    </tr>\n",
              "    <tr>\n",
              "      <th>2</th>\n",
              "      <td>2</td>\n",
              "      <td>3</td>\n",
              "      <td>0.225236</td>\n",
              "      <td>None</td>\n",
              "      <td>0.830568</td>\n",
              "      <td>0.039246</td>\n",
              "      <td>None</td>\n",
              "    </tr>\n",
              "    <tr>\n",
              "      <th>3</th>\n",
              "      <td>3</td>\n",
              "      <td>4</td>\n",
              "      <td>0.589429</td>\n",
              "      <td>None</td>\n",
              "      <td>0.738312</td>\n",
              "      <td>0.773098</td>\n",
              "      <td>None</td>\n",
              "    </tr>\n",
              "    <tr>\n",
              "      <th>4</th>\n",
              "      <td>4</td>\n",
              "      <td>6</td>\n",
              "      <td>0.745075</td>\n",
              "      <td>None</td>\n",
              "      <td>0.059925</td>\n",
              "      <td>0.621218</td>\n",
              "      <td>None</td>\n",
              "    </tr>\n",
              "    <tr>\n",
              "      <th>...</th>\n",
              "      <td>...</td>\n",
              "      <td>...</td>\n",
              "      <td>...</td>\n",
              "      <td>...</td>\n",
              "      <td>...</td>\n",
              "      <td>...</td>\n",
              "      <td>...</td>\n",
              "    </tr>\n",
              "    <tr>\n",
              "      <th>327</th>\n",
              "      <td>327</td>\n",
              "      <td>329</td>\n",
              "      <td>0.687815</td>\n",
              "      <td>None</td>\n",
              "      <td>0.889279</td>\n",
              "      <td>0.626125</td>\n",
              "      <td>None</td>\n",
              "    </tr>\n",
              "    <tr>\n",
              "      <th>328</th>\n",
              "      <td>328</td>\n",
              "      <td>330</td>\n",
              "      <td>0.89814</td>\n",
              "      <td>None</td>\n",
              "      <td>0.484288</td>\n",
              "      <td>0.524652</td>\n",
              "      <td>None</td>\n",
              "    </tr>\n",
              "    <tr>\n",
              "      <th>329</th>\n",
              "      <td>329</td>\n",
              "      <td>331</td>\n",
              "      <td>0.99104</td>\n",
              "      <td>None</td>\n",
              "      <td>0.712595</td>\n",
              "      <td>0.809010</td>\n",
              "      <td>None</td>\n",
              "    </tr>\n",
              "    <tr>\n",
              "      <th>330</th>\n",
              "      <td>330</td>\n",
              "      <td>332</td>\n",
              "      <td>0.36985</td>\n",
              "      <td>None</td>\n",
              "      <td>0.078308</td>\n",
              "      <td>0.912924</td>\n",
              "      <td>None</td>\n",
              "    </tr>\n",
              "    <tr>\n",
              "      <th>331</th>\n",
              "      <td>331</td>\n",
              "      <td>333</td>\n",
              "      <td>0.502281</td>\n",
              "      <td>None</td>\n",
              "      <td>0.212238</td>\n",
              "      <td>0.100042</td>\n",
              "      <td>None</td>\n",
              "    </tr>\n",
              "  </tbody>\n",
              "</table>\n",
              "<p>332 rows × 7 columns</p>\n",
              "</div>"
            ],
            "text/plain": [
              "     level_0  index          H     r         u         s     h\n",
              "0          0      0        111  None  0.070045  0.129558  None\n",
              "1          1      2  0.0590584  None  0.186997  0.644602  None\n",
              "2          2      3   0.225236  None  0.830568  0.039246  None\n",
              "3          3      4   0.589429  None  0.738312  0.773098  None\n",
              "4          4      6   0.745075  None  0.059925  0.621218  None\n",
              "..       ...    ...        ...   ...       ...       ...   ...\n",
              "327      327    329   0.687815  None  0.889279  0.626125  None\n",
              "328      328    330    0.89814  None  0.484288  0.524652  None\n",
              "329      329    331    0.99104  None  0.712595  0.809010  None\n",
              "330      330    332    0.36985  None  0.078308  0.912924  None\n",
              "331      331    333   0.502281  None  0.212238  0.100042  None\n",
              "\n",
              "[332 rows x 7 columns]"
            ]
          },
          "metadata": {
            "tags": []
          },
          "execution_count": 123
        }
      ]
    }
  ]
}