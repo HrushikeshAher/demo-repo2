{
  "nbformat": 4,
  "nbformat_minor": 0,
  "metadata": {
    "kernelspec": {
      "display_name": "Python 3",
      "language": "python",
      "name": "python3"
    },
    "language_info": {
      "codemirror_mode": {
        "name": "ipython",
        "version": 3
      },
      "file_extension": ".py",
      "mimetype": "text/x-python",
      "name": "python",
      "nbconvert_exporter": "python",
      "pygments_lexer": "ipython3",
      "version": "3.7.6"
    },
    "colab": {
      "name": "Python_Mysql.ipynb",
      "provenance": [],
      "include_colab_link": true
    }
  },
  "cells": [
    {
      "cell_type": "markdown",
      "metadata": {
        "id": "view-in-github",
        "colab_type": "text"
      },
      "source": [
        "<a href=\"https://colab.research.google.com/github/HrushikeshAher/demo-repo2/blob/master/Python_Mysql.ipynb\" target=\"_parent\"><img src=\"https://colab.research.google.com/assets/colab-badge.svg\" alt=\"Open In Colab\"/></a>"
      ]
    },
    {
      "cell_type": "markdown",
      "metadata": {
        "id": "uPOwHrHTDxLN"
      },
      "source": [
        "#Python Database Connection"
      ]
    },
    {
      "cell_type": "code",
      "metadata": {
        "id": "4zMCIGaqDxLQ"
      },
      "source": [
        "import mysql.connector"
      ],
      "execution_count": null,
      "outputs": []
    },
    {
      "cell_type": "code",
      "metadata": {
        "id": "cHs2paKXDxLR"
      },
      "source": [
        "mydb=mysql.connector.connect(user='root', password='Root',host='localhost')"
      ],
      "execution_count": null,
      "outputs": []
    },
    {
      "cell_type": "code",
      "metadata": {
        "id": "ZT8wCcN7DxLS",
        "outputId": "6cb54729-2e5b-4d49-b20e-85d34963b4f0"
      },
      "source": [
        "print(mydb)"
      ],
      "execution_count": null,
      "outputs": [
        {
          "output_type": "stream",
          "text": [
            "<mysql.connector.connection.MySQLConnection object at 0x00000295D87834C8>\n"
          ],
          "name": "stdout"
        }
      ]
    },
    {
      "cell_type": "code",
      "metadata": {
        "id": "SQb48kViDxLT",
        "outputId": "621aa7eb-7db3-4024-d0d1-a24b388e8a2f"
      },
      "source": [
        "if mydb:\n",
        "    print('Connection Successful!!')\n",
        "else:\n",
        "    print('Not Connected!')"
      ],
      "execution_count": null,
      "outputs": [
        {
          "output_type": "stream",
          "text": [
            "Connection Successful!!\n"
          ],
          "name": "stdout"
        }
      ]
    },
    {
      "cell_type": "markdown",
      "metadata": {
        "id": "l6rthpzGDxLT"
      },
      "source": [
        "# Database Creation"
      ]
    },
    {
      "cell_type": "code",
      "metadata": {
        "id": "4ZKQJstlDxLU"
      },
      "source": [
        "mycursor=mydb.cursor()"
      ],
      "execution_count": null,
      "outputs": []
    },
    {
      "cell_type": "code",
      "metadata": {
        "id": "nhoPLGWUDxLU",
        "outputId": "acf4e157-143c-47ac-8e63-d7370fb08fd4"
      },
      "source": [
        "mycursor"
      ],
      "execution_count": null,
      "outputs": [
        {
          "output_type": "execute_result",
          "data": {
            "text/plain": [
              "<mysql.connector.cursor.MySQLCursor at 0x295d894b448>"
            ]
          },
          "metadata": {
            "tags": []
          },
          "execution_count": 6
        }
      ]
    },
    {
      "cell_type": "code",
      "metadata": {
        "id": "TZi5UCxzDxLV"
      },
      "source": [
        "#mycursor.execute('Create database Learn_Python')"
      ],
      "execution_count": null,
      "outputs": []
    },
    {
      "cell_type": "code",
      "metadata": {
        "id": "KYsiBlSDDxLV"
      },
      "source": [
        "mycursor.execute('show databases')"
      ],
      "execution_count": null,
      "outputs": []
    },
    {
      "cell_type": "code",
      "metadata": {
        "id": "6xvXwikxDxLV",
        "outputId": "cac71b17-98b6-413b-91fc-9d74a811c6b9"
      },
      "source": [
        "for db in mycursor:\n",
        "    print(db)"
      ],
      "execution_count": null,
      "outputs": [
        {
          "output_type": "stream",
          "text": [
            "('information_schema',)\n",
            "('learn_python',)\n",
            "('mysql',)\n",
            "('performance_schema',)\n",
            "('sakila',)\n",
            "('sys',)\n",
            "('world',)\n"
          ],
          "name": "stdout"
        }
      ]
    },
    {
      "cell_type": "code",
      "metadata": {
        "id": "SHxxcJo3DxLW"
      },
      "source": [
        "mycursor.execute('use Learn_Python')"
      ],
      "execution_count": null,
      "outputs": []
    },
    {
      "cell_type": "code",
      "metadata": {
        "id": "Emix7XeWDxLW"
      },
      "source": [
        "mycursor.execute('drop table person')"
      ],
      "execution_count": null,
      "outputs": []
    },
    {
      "cell_type": "code",
      "metadata": {
        "id": "gWky6wieDxLX"
      },
      "source": [
        "mycursor.execute('create table Person(ID int(6),FirstName varchar(15),LastName varchar(15),MobileNo int(10),Email varchar(50))')"
      ],
      "execution_count": null,
      "outputs": []
    },
    {
      "cell_type": "code",
      "metadata": {
        "id": "w8Av6EgHDxLX"
      },
      "source": [
        "mycursor.execute('show tables')"
      ],
      "execution_count": null,
      "outputs": []
    },
    {
      "cell_type": "code",
      "metadata": {
        "id": "EKdfl0sdDxLX",
        "outputId": "c02cf8e7-388f-4313-b1cf-4ba8766ed62d"
      },
      "source": [
        "for db in mycursor:\n",
        "    print(db)"
      ],
      "execution_count": null,
      "outputs": [
        {
          "output_type": "stream",
          "text": [
            "('person',)\n"
          ],
          "name": "stdout"
        }
      ]
    },
    {
      "cell_type": "code",
      "metadata": {
        "id": "hjF_YcTzDxLY"
      },
      "source": [
        "mycursor.execute(\"insert into person values(1001,'Hrushikesh','Aher',997506271,'hrushi.aher@gmail.com')\")"
      ],
      "execution_count": null,
      "outputs": []
    },
    {
      "cell_type": "code",
      "metadata": {
        "id": "rU3M0EkSDxLY"
      },
      "source": [
        "mycursor.execute(\"insert into person values(1002,'Hrushikesh2','Aher2',997506272,'hrushi.aher@gmail.com2')\")"
      ],
      "execution_count": null,
      "outputs": []
    },
    {
      "cell_type": "code",
      "metadata": {
        "id": "NQOPSqkxDxLY"
      },
      "source": [
        "mycursor.execute(\"Select * from person\")"
      ],
      "execution_count": null,
      "outputs": []
    },
    {
      "cell_type": "code",
      "metadata": {
        "id": "_ZEEt85eDxLY",
        "outputId": "2acdce58-23c4-4cf0-cb82-277bec653e8d"
      },
      "source": [
        "for ID,FName,LName,MobileNo,EmailID in mycursor:\n",
        "    print('ID: ',ID,'First Name: ',FName,'Last Name: ',LName,'Mobile No: ',MobileNo,'Email ID: ',EmailID)"
      ],
      "execution_count": null,
      "outputs": [
        {
          "output_type": "stream",
          "text": [
            "ID:  1001 First Name:  Hrushikesh Last Name:  Aher Mobile No:  997506271 Email ID:  hrushi.aher@gmail.com\n",
            "ID:  1002 First Name:  Hrushikesh2 Last Name:  Aher2 Mobile No:  997506272 Email ID:  hrushi.aher@gmail.com2\n"
          ],
          "name": "stdout"
        }
      ]
    },
    {
      "cell_type": "code",
      "metadata": {
        "id": "8EGheNtqDxLZ"
      },
      "source": [
        "myresult=mycursor.fetchone()"
      ],
      "execution_count": null,
      "outputs": []
    },
    {
      "cell_type": "code",
      "metadata": {
        "id": "Iwh7nVdkDxLZ",
        "outputId": "c10d414e-c8cf-4c8c-ba5d-eddcf4c85270"
      },
      "source": [
        "for row in myresult:\n",
        "    print(row)"
      ],
      "execution_count": null,
      "outputs": [
        {
          "output_type": "stream",
          "text": [
            "1001\n",
            "Hrushikesh\n",
            "Aher\n",
            "997506271\n",
            "hrushi.aher@gmail.com\n"
          ],
          "name": "stdout"
        }
      ]
    },
    {
      "cell_type": "code",
      "metadata": {
        "id": "qSPM_MqyDxLZ"
      },
      "source": [
        "myresult=mycursor.fetchall()"
      ],
      "execution_count": null,
      "outputs": []
    },
    {
      "cell_type": "code",
      "metadata": {
        "id": "bsrid6hUDxLZ",
        "outputId": "17a76352-ce20-4c16-dfb1-0605cd60c260"
      },
      "source": [
        "for row in myresult:\n",
        "    print(row)"
      ],
      "execution_count": null,
      "outputs": [
        {
          "output_type": "stream",
          "text": [
            "(1001, 'Hrushikesh', 'Aher', 992219318, 'hrushi.aher@gmail.com')\n"
          ],
          "name": "stdout"
        }
      ]
    },
    {
      "cell_type": "code",
      "metadata": {
        "id": "nFpAbocLDxLa"
      },
      "source": [
        "mycursor.execute(\"update person set MobileNo=992219318 where FirstName='Hrushikesh'\")"
      ],
      "execution_count": null,
      "outputs": []
    },
    {
      "cell_type": "code",
      "metadata": {
        "id": "FbzX2t4DDxLa"
      },
      "source": [
        "mydb.commit()"
      ],
      "execution_count": null,
      "outputs": []
    },
    {
      "cell_type": "code",
      "metadata": {
        "id": "MLX8-wYEDxLa"
      },
      "source": [
        "mycursor.execute(\"Delete from person where FirstName='Hrushikesh2'\")"
      ],
      "execution_count": null,
      "outputs": []
    },
    {
      "cell_type": "code",
      "metadata": {
        "id": "jhMbCoCtDxLa"
      },
      "source": [
        ""
      ],
      "execution_count": null,
      "outputs": []
    }
  ]
}